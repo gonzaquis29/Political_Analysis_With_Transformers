{
 "cells": [
  {
   "cell_type": "code",
   "execution_count": 1,
   "metadata": {},
   "outputs": [],
   "source": [
    "import requests\n",
    "import pandas as pd"
   ]
  },
  {
   "cell_type": "code",
   "execution_count": 2,
   "metadata": {},
   "outputs": [],
   "source": [
    "API_KEY = \"a0f1bbeaf47325894d70428617d3bbbf\"\n",
    "BASE_URL = \"https://manifesto-project.wzb.eu/api/v1/\""
   ]
  },
  {
   "cell_type": "code",
   "execution_count": 3,
   "metadata": {},
   "outputs": [],
   "source": [
    "from typing import List, Dict\n",
    "\n",
    "def get_metadata(keys: List[str], version: str, batch_size: int = 50) -> List[Dict]:\n",
    "    \"\"\"Obtiene los metadatos para las claves dadas, usando solicitudes POST y procesando por lotes\"\"\"\n",
    "    url = f\"{BASE_URL}metadata\"\n",
    "    all_metadata = []\n",
    "\n",
    "    for i in range(0, len(keys), batch_size):\n",
    "        batch_keys = keys[i:i+batch_size]\n",
    "        data = {'api_key': API_KEY, 'keys[]': batch_keys, 'version': version}\n",
    "        response = requests.post(url, data=data)\n",
    "        \n",
    "        if response.status_code == 200:\n",
    "            all_metadata.extend(response.json()['items'])\n",
    "        else:\n",
    "            print(f\"Error al obtener los metadatos para el lote {i//batch_size + 1}: {response.status_code}\")\n",
    "    \n",
    "    return all_metadata"
   ]
  },
  {
   "cell_type": "code",
   "execution_count": 5,
   "metadata": {},
   "outputs": [],
   "source": [
    "def get_all_texts_and_annotations(keys: List[str], version: str, batch_size: int = 50) -> List[Dict]:\n",
    "    \"\"\"Obtiene los textos y anotaciones para las claves dadas, procesando por lotes\"\"\"\n",
    "    url = f\"{BASE_URL}texts_and_annotations\"\n",
    "    all_texts_and_annotations = []\n",
    "\n",
    "    for i in range(0, len(keys), batch_size):\n",
    "        batch_keys = keys[i:i+batch_size]\n",
    "        params = {'api_key': API_KEY, 'keys[]': batch_keys, 'version': version}\n",
    "        response = requests.get(url, params=params)\n",
    "        \n",
    "        if response.status_code == 200:\n",
    "            all_texts_and_annotations.extend(response.json()['items'])\n",
    "        else:\n",
    "            print(f\"Error al obtener los textos y anotaciones para el lote {i//batch_size + 1}: {response.status_code}\")\n",
    "    \n",
    "    return all_texts_and_annotations"
   ]
  },
  {
   "cell_type": "code",
   "execution_count": 8,
   "metadata": {},
   "outputs": [
    {
     "data": {
      "text/html": [
       "<div>\n",
       "<style scoped>\n",
       "    .dataframe tbody tr th:only-of-type {\n",
       "        vertical-align: middle;\n",
       "    }\n",
       "\n",
       "    .dataframe tbody tr th {\n",
       "        vertical-align: top;\n",
       "    }\n",
       "\n",
       "    .dataframe thead th {\n",
       "        text-align: right;\n",
       "    }\n",
       "</style>\n",
       "<table border=\"1\" class=\"dataframe\">\n",
       "  <thead>\n",
       "    <tr style=\"text-align: right;\">\n",
       "      <th></th>\n",
       "      <th>Unnamed: 0</th>\n",
       "      <th>country</th>\n",
       "      <th>countryname</th>\n",
       "      <th>oecdmember</th>\n",
       "      <th>eumember</th>\n",
       "      <th>edate</th>\n",
       "      <th>date</th>\n",
       "      <th>party</th>\n",
       "      <th>partyname</th>\n",
       "      <th>partyabbrev</th>\n",
       "      <th>...</th>\n",
       "      <th>per703_1</th>\n",
       "      <th>per703_2</th>\n",
       "      <th>rile</th>\n",
       "      <th>planeco</th>\n",
       "      <th>markeco</th>\n",
       "      <th>welfare</th>\n",
       "      <th>intpeace</th>\n",
       "      <th>datasetversion</th>\n",
       "      <th>id_perm</th>\n",
       "      <th>key</th>\n",
       "    </tr>\n",
       "  </thead>\n",
       "  <tbody>\n",
       "    <tr>\n",
       "      <th>0</th>\n",
       "      <td>1566</td>\n",
       "      <td>33</td>\n",
       "      <td>Spain</td>\n",
       "      <td>10</td>\n",
       "      <td>0</td>\n",
       "      <td>1977-06-15</td>\n",
       "      <td>197706</td>\n",
       "      <td>33220</td>\n",
       "      <td>Communist Party of Spain</td>\n",
       "      <td>PCE</td>\n",
       "      <td>...</td>\n",
       "      <td>NaN</td>\n",
       "      <td>NaN</td>\n",
       "      <td>-13.953</td>\n",
       "      <td>4.264</td>\n",
       "      <td>0.388</td>\n",
       "      <td>10.853</td>\n",
       "      <td>0.388</td>\n",
       "      <td>2024a</td>\n",
       "      <td>VVUNDW</td>\n",
       "      <td>33220_197706</td>\n",
       "    </tr>\n",
       "    <tr>\n",
       "      <th>1</th>\n",
       "      <td>1567</td>\n",
       "      <td>33</td>\n",
       "      <td>Spain</td>\n",
       "      <td>10</td>\n",
       "      <td>0</td>\n",
       "      <td>1977-06-15</td>\n",
       "      <td>197706</td>\n",
       "      <td>33320</td>\n",
       "      <td>Spanish Socialist Workers’ Party</td>\n",
       "      <td>PSOE</td>\n",
       "      <td>...</td>\n",
       "      <td>NaN</td>\n",
       "      <td>NaN</td>\n",
       "      <td>-9.253</td>\n",
       "      <td>0.356</td>\n",
       "      <td>0.712</td>\n",
       "      <td>13.523</td>\n",
       "      <td>1.423</td>\n",
       "      <td>2024a</td>\n",
       "      <td>CAFE6R</td>\n",
       "      <td>33320_197706</td>\n",
       "    </tr>\n",
       "    <tr>\n",
       "      <th>2</th>\n",
       "      <td>1568</td>\n",
       "      <td>33</td>\n",
       "      <td>Spain</td>\n",
       "      <td>10</td>\n",
       "      <td>0</td>\n",
       "      <td>1977-06-15</td>\n",
       "      <td>197706</td>\n",
       "      <td>33430</td>\n",
       "      <td>Union of the Democratic Centre/Centrist Bloc</td>\n",
       "      <td>UCD</td>\n",
       "      <td>...</td>\n",
       "      <td>NaN</td>\n",
       "      <td>NaN</td>\n",
       "      <td>-0.469</td>\n",
       "      <td>2.347</td>\n",
       "      <td>6.103</td>\n",
       "      <td>15.493</td>\n",
       "      <td>3.286</td>\n",
       "      <td>2024a</td>\n",
       "      <td>NVYU5M</td>\n",
       "      <td>33430_197706</td>\n",
       "    </tr>\n",
       "    <tr>\n",
       "      <th>3</th>\n",
       "      <td>1569</td>\n",
       "      <td>33</td>\n",
       "      <td>Spain</td>\n",
       "      <td>10</td>\n",
       "      <td>0</td>\n",
       "      <td>1977-06-15</td>\n",
       "      <td>197706</td>\n",
       "      <td>33610</td>\n",
       "      <td>Popular Alliance</td>\n",
       "      <td>AP</td>\n",
       "      <td>...</td>\n",
       "      <td>NaN</td>\n",
       "      <td>NaN</td>\n",
       "      <td>12.069</td>\n",
       "      <td>3.448</td>\n",
       "      <td>14.655</td>\n",
       "      <td>20.690</td>\n",
       "      <td>0.000</td>\n",
       "      <td>2024a</td>\n",
       "      <td>BAWT83</td>\n",
       "      <td>33610_197706</td>\n",
       "    </tr>\n",
       "    <tr>\n",
       "      <th>4</th>\n",
       "      <td>1570</td>\n",
       "      <td>33</td>\n",
       "      <td>Spain</td>\n",
       "      <td>10</td>\n",
       "      <td>0</td>\n",
       "      <td>1977-06-15</td>\n",
       "      <td>197706</td>\n",
       "      <td>33901</td>\n",
       "      <td>Basque Left</td>\n",
       "      <td>EE</td>\n",
       "      <td>...</td>\n",
       "      <td>NaN</td>\n",
       "      <td>NaN</td>\n",
       "      <td>-23.499</td>\n",
       "      <td>1.044</td>\n",
       "      <td>0.783</td>\n",
       "      <td>8.094</td>\n",
       "      <td>3.133</td>\n",
       "      <td>2024a</td>\n",
       "      <td>74CMWM</td>\n",
       "      <td>33901_197706</td>\n",
       "    </tr>\n",
       "  </tbody>\n",
       "</table>\n",
       "<p>5 rows × 177 columns</p>\n",
       "</div>"
      ],
      "text/plain": [
       "   Unnamed: 0  country countryname  oecdmember  eumember       edate    date  \\\n",
       "0        1566       33       Spain          10         0  1977-06-15  197706   \n",
       "1        1567       33       Spain          10         0  1977-06-15  197706   \n",
       "2        1568       33       Spain          10         0  1977-06-15  197706   \n",
       "3        1569       33       Spain          10         0  1977-06-15  197706   \n",
       "4        1570       33       Spain          10         0  1977-06-15  197706   \n",
       "\n",
       "   party                                     partyname partyabbrev  ...  \\\n",
       "0  33220                      Communist Party of Spain         PCE  ...   \n",
       "1  33320              Spanish Socialist Workers’ Party        PSOE  ...   \n",
       "2  33430  Union of the Democratic Centre/Centrist Bloc         UCD  ...   \n",
       "3  33610                              Popular Alliance          AP  ...   \n",
       "4  33901                                   Basque Left          EE  ...   \n",
       "\n",
       "   per703_1 per703_2    rile  planeco  markeco  welfare  intpeace  \\\n",
       "0       NaN      NaN -13.953    4.264    0.388   10.853     0.388   \n",
       "1       NaN      NaN  -9.253    0.356    0.712   13.523     1.423   \n",
       "2       NaN      NaN  -0.469    2.347    6.103   15.493     3.286   \n",
       "3       NaN      NaN  12.069    3.448   14.655   20.690     0.000   \n",
       "4       NaN      NaN -23.499    1.044    0.783    8.094     3.133   \n",
       "\n",
       "   datasetversion  id_perm           key  \n",
       "0           2024a   VVUNDW  33220_197706  \n",
       "1           2024a   CAFE6R  33320_197706  \n",
       "2           2024a   NVYU5M  33430_197706  \n",
       "3           2024a   BAWT83  33610_197706  \n",
       "4           2024a   74CMWM  33901_197706  \n",
       "\n",
       "[5 rows x 177 columns]"
      ]
     },
     "execution_count": 8,
     "metadata": {},
     "output_type": "execute_result"
    }
   ],
   "source": [
    "df_manifesto_spanish = pd.read_csv(\"Manifesto_spanish.csv\")\n",
    "df_manifesto_spanish.head()"
   ]
  },
  {
   "cell_type": "code",
   "execution_count": 10,
   "metadata": {},
   "outputs": [],
   "source": [
    "df_manifesto_spanish['key'] = df_manifesto_spanish['party'].astype(str) + '_' + df_manifesto_spanish['date'].astype(str)\n",
    "keys = df_manifesto_spanish['key'].tolist()"
   ]
  },
  {
   "cell_type": "code",
   "execution_count": 12,
   "metadata": {},
   "outputs": [],
   "source": [
    "import random\n",
    "# Crear una copia de la lista para no modificar la original\n",
    "keys_shuffle = keys.copy()\n",
    "\n",
    "# Barajar la copia\n",
    "random.shuffle(keys_shuffle)"
   ]
  },
  {
   "cell_type": "code",
   "execution_count": 13,
   "metadata": {},
   "outputs": [
    {
     "data": {
      "text/plain": [
       "502"
      ]
     },
     "execution_count": 13,
     "metadata": {},
     "output_type": "execute_result"
    }
   ],
   "source": [
    "len(keys_shuffle)"
   ]
  },
  {
   "cell_type": "code",
   "execution_count": 14,
   "metadata": {},
   "outputs": [],
   "source": [
    "metadata_version = '2024-1' \n",
    "metadata = get_metadata(keys_shuffle, metadata_version)"
   ]
  },
  {
   "cell_type": "code",
   "execution_count": 15,
   "metadata": {},
   "outputs": [],
   "source": [
    "available_keys = [item['manifesto_id'] for item in metadata if item.get('is_primary_doc', False)]\n"
   ]
  },
  {
   "cell_type": "code",
   "execution_count": 18,
   "metadata": {},
   "outputs": [],
   "source": [
    "texts_and_annotations = get_all_texts_and_annotations(available_keys, metadata_version)\n"
   ]
  },
  {
   "cell_type": "code",
   "execution_count": 36,
   "metadata": {},
   "outputs": [],
   "source": [
    "texts = []\n",
    "cmp_codes = []\n",
    "for i in texts_and_annotations:\n",
    "    for item in i['items']:\n",
    "        texts.append(item['text'])\n",
    "        cmp_codes.append(item['cmp_code'])"
   ]
  },
  {
   "cell_type": "code",
   "execution_count": 41,
   "metadata": {},
   "outputs": [],
   "source": [
    "df = pd.DataFrame({'Text': texts, 'Code': cmp_codes})\n"
   ]
  },
  {
   "cell_type": "code",
   "execution_count": 43,
   "metadata": {},
   "outputs": [],
   "source": [
    "df.to_csv(\"manifestos_etiquetados.csv\")"
   ]
  },
  {
   "cell_type": "code",
   "execution_count": 31,
   "metadata": {},
   "outputs": [
    {
     "data": {
      "text/plain": [
       "{'text': 'Rumbo a una Bolivia Líder', 'cmp_code': 'H', 'eu_code': 'NA'}"
      ]
     },
     "execution_count": 31,
     "metadata": {},
     "output_type": "execute_result"
    }
   ],
   "source": [
    "texts_and_annotations[3]['items'][0]"
   ]
  }
 ],
 "metadata": {
  "kernelspec": {
   "display_name": "base",
   "language": "python",
   "name": "python3"
  },
  "language_info": {
   "codemirror_mode": {
    "name": "ipython",
    "version": 3
   },
   "file_extension": ".py",
   "mimetype": "text/x-python",
   "name": "python",
   "nbconvert_exporter": "python",
   "pygments_lexer": "ipython3",
   "version": "3.12.4"
  }
 },
 "nbformat": 4,
 "nbformat_minor": 2
}
