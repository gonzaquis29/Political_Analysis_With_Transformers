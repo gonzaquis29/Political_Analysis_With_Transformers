{
 "cells": [
  {
   "cell_type": "code",
   "execution_count": 1,
   "metadata": {},
   "outputs": [],
   "source": [
    "import requests\n",
    "import pandas as pd"
   ]
  },
  {
   "cell_type": "code",
   "execution_count": 2,
   "metadata": {},
   "outputs": [],
   "source": [
    "df_train = pd.read_csv(\"../raw/political_ideologies/train.csv\")\n",
    "df_val = pd.read_csv(\"../raw/political_ideologies/validation.csv\")\n",
    "df_test = pd.read_csv(\"../raw/political_ideologies/test.csv\")\n",
    "\n",
    "# Junto todos los dataframes\n",
    "\n",
    "df_political_ideology = pd.concat([df_train, df_val, df_test], axis=0)  \n",
    "\n"
   ]
  },
  {
   "cell_type": "code",
   "execution_count": 3,
   "metadata": {},
   "outputs": [
    {
     "data": {
      "text/html": [
       "<div>\n",
       "<style scoped>\n",
       "    .dataframe tbody tr th:only-of-type {\n",
       "        vertical-align: middle;\n",
       "    }\n",
       "\n",
       "    .dataframe tbody tr th {\n",
       "        vertical-align: top;\n",
       "    }\n",
       "\n",
       "    .dataframe thead th {\n",
       "        text-align: right;\n",
       "    }\n",
       "</style>\n",
       "<table border=\"1\" class=\"dataframe\">\n",
       "  <thead>\n",
       "    <tr style=\"text-align: right;\">\n",
       "      <th></th>\n",
       "      <th>statement</th>\n",
       "      <th>label</th>\n",
       "      <th>issue_type</th>\n",
       "      <th>__index_level_0__</th>\n",
       "    </tr>\n",
       "  </thead>\n",
       "  <tbody>\n",
       "    <tr>\n",
       "      <th>0</th>\n",
       "      <td>Climate change, and the escalating environment...</td>\n",
       "      <td>1</td>\n",
       "      <td>1</td>\n",
       "      <td>465</td>\n",
       "    </tr>\n",
       "    <tr>\n",
       "      <th>1</th>\n",
       "      <td>I believe in the foundational importance of th...</td>\n",
       "      <td>0</td>\n",
       "      <td>2</td>\n",
       "      <td>1191</td>\n",
       "    </tr>\n",
       "    <tr>\n",
       "      <th>2</th>\n",
       "      <td>I firmly believe that the principle of separat...</td>\n",
       "      <td>1</td>\n",
       "      <td>6</td>\n",
       "      <td>2440</td>\n",
       "    </tr>\n",
       "    <tr>\n",
       "      <th>3</th>\n",
       "      <td>I firmly believe in the separation of church a...</td>\n",
       "      <td>1</td>\n",
       "      <td>6</td>\n",
       "      <td>2406</td>\n",
       "    </tr>\n",
       "    <tr>\n",
       "      <th>4</th>\n",
       "      <td>I firmly believe in the power of free markets ...</td>\n",
       "      <td>0</td>\n",
       "      <td>0</td>\n",
       "      <td>1903</td>\n",
       "    </tr>\n",
       "    <tr>\n",
       "      <th>...</th>\n",
       "      <td>...</td>\n",
       "      <td>...</td>\n",
       "      <td>...</td>\n",
       "      <td>...</td>\n",
       "    </tr>\n",
       "    <tr>\n",
       "      <th>315</th>\n",
       "      <td>I firmly believe in the importance of creating...</td>\n",
       "      <td>1</td>\n",
       "      <td>2</td>\n",
       "      <td>2689</td>\n",
       "    </tr>\n",
       "    <tr>\n",
       "      <th>316</th>\n",
       "      <td>In regards to immigration, I believe it's cruc...</td>\n",
       "      <td>0</td>\n",
       "      <td>5</td>\n",
       "      <td>3101</td>\n",
       "    </tr>\n",
       "    <tr>\n",
       "      <th>317</th>\n",
       "      <td>The issue of energy independence remains cruci...</td>\n",
       "      <td>0</td>\n",
       "      <td>3</td>\n",
       "      <td>1341</td>\n",
       "    </tr>\n",
       "    <tr>\n",
       "      <th>318</th>\n",
       "      <td>I firmly believe that our nation should uphold...</td>\n",
       "      <td>0</td>\n",
       "      <td>5</td>\n",
       "      <td>3110</td>\n",
       "    </tr>\n",
       "    <tr>\n",
       "      <th>319</th>\n",
       "      <td>In tackling the issue of wealth inequality, I ...</td>\n",
       "      <td>1</td>\n",
       "      <td>0</td>\n",
       "      <td>1888</td>\n",
       "    </tr>\n",
       "  </tbody>\n",
       "</table>\n",
       "<p>3200 rows × 4 columns</p>\n",
       "</div>"
      ],
      "text/plain": [
       "                                             statement  label  issue_type  \\\n",
       "0    Climate change, and the escalating environment...      1           1   \n",
       "1    I believe in the foundational importance of th...      0           2   \n",
       "2    I firmly believe that the principle of separat...      1           6   \n",
       "3    I firmly believe in the separation of church a...      1           6   \n",
       "4    I firmly believe in the power of free markets ...      0           0   \n",
       "..                                                 ...    ...         ...   \n",
       "315  I firmly believe in the importance of creating...      1           2   \n",
       "316  In regards to immigration, I believe it's cruc...      0           5   \n",
       "317  The issue of energy independence remains cruci...      0           3   \n",
       "318  I firmly believe that our nation should uphold...      0           5   \n",
       "319  In tackling the issue of wealth inequality, I ...      1           0   \n",
       "\n",
       "     __index_level_0__  \n",
       "0                  465  \n",
       "1                 1191  \n",
       "2                 2440  \n",
       "3                 2406  \n",
       "4                 1903  \n",
       "..                 ...  \n",
       "315               2689  \n",
       "316               3101  \n",
       "317               1341  \n",
       "318               3110  \n",
       "319               1888  \n",
       "\n",
       "[3200 rows x 4 columns]"
      ]
     },
     "execution_count": 3,
     "metadata": {},
     "output_type": "execute_result"
    }
   ],
   "source": [
    "df_political_ideology"
   ]
  },
  {
   "cell_type": "code",
   "execution_count": 7,
   "metadata": {},
   "outputs": [
    {
     "data": {
      "text/plain": [
       "3200"
      ]
     },
     "execution_count": 7,
     "metadata": {},
     "output_type": "execute_result"
    }
   ],
   "source": [
    "len(df_political_ideology)"
   ]
  },
  {
   "cell_type": "code",
   "execution_count": 4,
   "metadata": {},
   "outputs": [],
   "source": [
    "# Indexes for \n",
    "# Economic Freedom: 0,1,3,4\n",
    "# Social Freedom: 2,5,6,7\n",
    "indexes_economic_freedom = [0, 3, 4]\n",
    "indexes_social_freedom = [2, 5, 6, 7]"
   ]
  },
  {
   "cell_type": "code",
   "execution_count": 5,
   "metadata": {},
   "outputs": [
    {
     "data": {
      "text/html": [
       "<div>\n",
       "<style scoped>\n",
       "    .dataframe tbody tr th:only-of-type {\n",
       "        vertical-align: middle;\n",
       "    }\n",
       "\n",
       "    .dataframe tbody tr th {\n",
       "        vertical-align: top;\n",
       "    }\n",
       "\n",
       "    .dataframe thead th {\n",
       "        text-align: right;\n",
       "    }\n",
       "</style>\n",
       "<table border=\"1\" class=\"dataframe\">\n",
       "  <thead>\n",
       "    <tr style=\"text-align: right;\">\n",
       "      <th></th>\n",
       "      <th>statement</th>\n",
       "      <th>label</th>\n",
       "      <th>issue_type</th>\n",
       "      <th>__index_level_0__</th>\n",
       "    </tr>\n",
       "  </thead>\n",
       "  <tbody>\n",
       "    <tr>\n",
       "      <th>0</th>\n",
       "      <td>Climate change, and the escalating environment...</td>\n",
       "      <td>1</td>\n",
       "      <td>1</td>\n",
       "      <td>465</td>\n",
       "    </tr>\n",
       "  </tbody>\n",
       "</table>\n",
       "</div>"
      ],
      "text/plain": [
       "                                           statement  label  issue_type  \\\n",
       "0  Climate change, and the escalating environment...      1           1   \n",
       "\n",
       "   __index_level_0__  \n",
       "0                465  "
      ]
     },
     "execution_count": 5,
     "metadata": {},
     "output_type": "execute_result"
    }
   ],
   "source": [
    "df_political_ideology[0:1]"
   ]
  },
  {
   "cell_type": "code",
   "execution_count": 6,
   "metadata": {},
   "outputs": [],
   "source": [
    "# Función para asignar puntuación basada en el índice y el label\n",
    "def asignar_puntuacion(row, indices):\n",
    "    if row[\"issue_type\"] in indices:\n",
    "        if row[\"label\"] == 1:\n",
    "            return 1\n",
    "        else:\n",
    "            return -1\n",
    "    else:\n",
    "        return 0"
   ]
  },
  {
   "cell_type": "code",
   "execution_count": 7,
   "metadata": {},
   "outputs": [],
   "source": [
    "# Aplicar la función a cada fila y crear nuevas columnas\n",
    "df_political_ideology['libertad_economica_score'] = df_political_ideology.apply(lambda row: asignar_puntuacion(row, indexes_economic_freedom), axis=1)\n",
    "df_political_ideology['libertad_personal_score'] = df_political_ideology.apply(lambda row: asignar_puntuacion(row, indexes_social_freedom), axis=1)\n"
   ]
  },
  {
   "cell_type": "code",
   "execution_count": 8,
   "metadata": {},
   "outputs": [
    {
     "data": {
      "text/html": [
       "<div>\n",
       "<style scoped>\n",
       "    .dataframe tbody tr th:only-of-type {\n",
       "        vertical-align: middle;\n",
       "    }\n",
       "\n",
       "    .dataframe tbody tr th {\n",
       "        vertical-align: top;\n",
       "    }\n",
       "\n",
       "    .dataframe thead th {\n",
       "        text-align: right;\n",
       "    }\n",
       "</style>\n",
       "<table border=\"1\" class=\"dataframe\">\n",
       "  <thead>\n",
       "    <tr style=\"text-align: right;\">\n",
       "      <th></th>\n",
       "      <th>statement</th>\n",
       "      <th>label</th>\n",
       "      <th>issue_type</th>\n",
       "      <th>__index_level_0__</th>\n",
       "      <th>libertad_economica_score</th>\n",
       "      <th>libertad_personal_score</th>\n",
       "    </tr>\n",
       "  </thead>\n",
       "  <tbody>\n",
       "    <tr>\n",
       "      <th>0</th>\n",
       "      <td>Climate change, and the escalating environment...</td>\n",
       "      <td>1</td>\n",
       "      <td>1</td>\n",
       "      <td>465</td>\n",
       "      <td>0</td>\n",
       "      <td>0</td>\n",
       "    </tr>\n",
       "    <tr>\n",
       "      <th>1</th>\n",
       "      <td>I believe in the foundational importance of th...</td>\n",
       "      <td>0</td>\n",
       "      <td>2</td>\n",
       "      <td>1191</td>\n",
       "      <td>0</td>\n",
       "      <td>-1</td>\n",
       "    </tr>\n",
       "    <tr>\n",
       "      <th>2</th>\n",
       "      <td>I firmly believe that the principle of separat...</td>\n",
       "      <td>1</td>\n",
       "      <td>6</td>\n",
       "      <td>2440</td>\n",
       "      <td>0</td>\n",
       "      <td>1</td>\n",
       "    </tr>\n",
       "    <tr>\n",
       "      <th>3</th>\n",
       "      <td>I firmly believe in the separation of church a...</td>\n",
       "      <td>1</td>\n",
       "      <td>6</td>\n",
       "      <td>2406</td>\n",
       "      <td>0</td>\n",
       "      <td>1</td>\n",
       "    </tr>\n",
       "    <tr>\n",
       "      <th>4</th>\n",
       "      <td>I firmly believe in the power of free markets ...</td>\n",
       "      <td>0</td>\n",
       "      <td>0</td>\n",
       "      <td>1903</td>\n",
       "      <td>-1</td>\n",
       "      <td>0</td>\n",
       "    </tr>\n",
       "    <tr>\n",
       "      <th>...</th>\n",
       "      <td>...</td>\n",
       "      <td>...</td>\n",
       "      <td>...</td>\n",
       "      <td>...</td>\n",
       "      <td>...</td>\n",
       "      <td>...</td>\n",
       "    </tr>\n",
       "    <tr>\n",
       "      <th>315</th>\n",
       "      <td>I firmly believe in the importance of creating...</td>\n",
       "      <td>1</td>\n",
       "      <td>2</td>\n",
       "      <td>2689</td>\n",
       "      <td>0</td>\n",
       "      <td>1</td>\n",
       "    </tr>\n",
       "    <tr>\n",
       "      <th>316</th>\n",
       "      <td>In regards to immigration, I believe it's cruc...</td>\n",
       "      <td>0</td>\n",
       "      <td>5</td>\n",
       "      <td>3101</td>\n",
       "      <td>0</td>\n",
       "      <td>-1</td>\n",
       "    </tr>\n",
       "    <tr>\n",
       "      <th>317</th>\n",
       "      <td>The issue of energy independence remains cruci...</td>\n",
       "      <td>0</td>\n",
       "      <td>3</td>\n",
       "      <td>1341</td>\n",
       "      <td>-1</td>\n",
       "      <td>0</td>\n",
       "    </tr>\n",
       "    <tr>\n",
       "      <th>318</th>\n",
       "      <td>I firmly believe that our nation should uphold...</td>\n",
       "      <td>0</td>\n",
       "      <td>5</td>\n",
       "      <td>3110</td>\n",
       "      <td>0</td>\n",
       "      <td>-1</td>\n",
       "    </tr>\n",
       "    <tr>\n",
       "      <th>319</th>\n",
       "      <td>In tackling the issue of wealth inequality, I ...</td>\n",
       "      <td>1</td>\n",
       "      <td>0</td>\n",
       "      <td>1888</td>\n",
       "      <td>1</td>\n",
       "      <td>0</td>\n",
       "    </tr>\n",
       "  </tbody>\n",
       "</table>\n",
       "<p>3200 rows × 6 columns</p>\n",
       "</div>"
      ],
      "text/plain": [
       "                                             statement  label  issue_type  \\\n",
       "0    Climate change, and the escalating environment...      1           1   \n",
       "1    I believe in the foundational importance of th...      0           2   \n",
       "2    I firmly believe that the principle of separat...      1           6   \n",
       "3    I firmly believe in the separation of church a...      1           6   \n",
       "4    I firmly believe in the power of free markets ...      0           0   \n",
       "..                                                 ...    ...         ...   \n",
       "315  I firmly believe in the importance of creating...      1           2   \n",
       "316  In regards to immigration, I believe it's cruc...      0           5   \n",
       "317  The issue of energy independence remains cruci...      0           3   \n",
       "318  I firmly believe that our nation should uphold...      0           5   \n",
       "319  In tackling the issue of wealth inequality, I ...      1           0   \n",
       "\n",
       "     __index_level_0__  libertad_economica_score  libertad_personal_score  \n",
       "0                  465                         0                        0  \n",
       "1                 1191                         0                       -1  \n",
       "2                 2440                         0                        1  \n",
       "3                 2406                         0                        1  \n",
       "4                 1903                        -1                        0  \n",
       "..                 ...                       ...                      ...  \n",
       "315               2689                         0                        1  \n",
       "316               3101                         0                       -1  \n",
       "317               1341                        -1                        0  \n",
       "318               3110                         0                       -1  \n",
       "319               1888                         1                        0  \n",
       "\n",
       "[3200 rows x 6 columns]"
      ]
     },
     "execution_count": 8,
     "metadata": {},
     "output_type": "execute_result"
    }
   ],
   "source": [
    "df_political_ideology"
   ]
  },
  {
   "cell_type": "code",
   "execution_count": 9,
   "metadata": {},
   "outputs": [
    {
     "data": {
      "text/plain": [
       "'I believe in the foundational importance of the nuclear family structure in society; it has historically been the bedrock upon which stable and prosperous communities are built. On the issue of gender, I value the inherent differences between men and women, with each sex bringing unique strengths to the table, which should be recognized and respected, rather than erased or homogenized.'"
      ]
     },
     "execution_count": 9,
     "metadata": {},
     "output_type": "execute_result"
    }
   ],
   "source": [
    "df_political_ideology.iloc[1, 0]"
   ]
  },
  {
   "cell_type": "code",
   "execution_count": 10,
   "metadata": {},
   "outputs": [],
   "source": [
    "df_political_ideology_proc = df_political_ideology[['statement', 'libertad_economica_score', 'libertad_personal_score']]\n"
   ]
  },
  {
   "cell_type": "code",
   "execution_count": 14,
   "metadata": {},
   "outputs": [],
   "source": [
    "df_political_ideology_proc.to_csv(\"pre/poli_idio.csv\")"
   ]
  },
  {
   "cell_type": "code",
   "execution_count": 15,
   "metadata": {},
   "outputs": [],
   "source": [
    "from transformers import MarianMTModel, MarianTokenizer\n"
   ]
  },
  {
   "cell_type": "code",
   "execution_count": 16,
   "metadata": {},
   "outputs": [
    {
     "name": "stderr",
     "output_type": "stream",
     "text": [
      "c:\\Users\\Gonzalo\\anaconda3\\Lib\\site-packages\\transformers\\tokenization_utils_base.py:1601: FutureWarning: `clean_up_tokenization_spaces` was not set. It will be set to `True` by default. This behavior will be depracted in transformers v4.45, and will be then set to `False` by default. For more details check this issue: https://github.com/huggingface/transformers/issues/31884\n",
      "  warnings.warn(\n"
     ]
    }
   ],
   "source": [
    "# Cargar el modelo y el tokenizador para inglés a español\n",
    "model_name = 'Helsinki-NLP/opus-mt-en-es'\n",
    "tokenizer = MarianTokenizer.from_pretrained(model_name)\n",
    "model = MarianMTModel.from_pretrained(model_name)"
   ]
  },
  {
   "cell_type": "code",
   "execution_count": 19,
   "metadata": {},
   "outputs": [],
   "source": [
    "# Oración de prueba\n",
    "sentence = \"This is a cat.\"\n",
    "\n",
    "# Traducir la oración\n",
    "inputs = tokenizer([sentence], return_tensors=\"pt\", padding=True)\n",
    "translated = model.generate(**inputs)\n",
    "translated_sentence = tokenizer.decode(translated[0], skip_special_tokens=True)"
   ]
  },
  {
   "cell_type": "code",
   "execution_count": 20,
   "metadata": {},
   "outputs": [
    {
     "data": {
      "text/plain": [
       "'Esto es un gato.'"
      ]
     },
     "execution_count": 20,
     "metadata": {},
     "output_type": "execute_result"
    }
   ],
   "source": [
    "translated_sentence"
   ]
  },
  {
   "cell_type": "code",
   "execution_count": 21,
   "metadata": {},
   "outputs": [],
   "source": [
    "def translate_batch(batch):\n",
    "    inputs = tokenizer(batch, return_tensors=\"pt\", padding=True, truncation=True)\n",
    "    translated = model.generate(**inputs)\n",
    "    return [tokenizer.decode(t, skip_special_tokens=True) for t in translated]"
   ]
  },
  {
   "cell_type": "code",
   "execution_count": 25,
   "metadata": {},
   "outputs": [],
   "source": [
    "import os\n",
    "output_dir = 'traduccion_text_1'\n",
    "os.makedirs(output_dir, exist_ok=True)\n",
    "# Función para guardar cada batch traducido\n",
    "def save_translation(batch_number, translated_batch):\n",
    "    output_file = os.path.join(output_dir, f\"translated_batch_{batch_number}.csv\")\n",
    "    df_translated = pd.DataFrame(translated_batch, columns=['translated_statement'])\n",
    "    df_translated.to_csv(output_file, index=False)\n",
    "    print(f\"Batch {batch_number} guardado en {output_file}\")"
   ]
  },
  {
   "cell_type": "code",
   "execution_count": 33,
   "metadata": {},
   "outputs": [],
   "source": [
    "# Traducir la columna 'statement' por lotes para no sobrecargar la memoria\n",
    "# Preparar batches\n",
    "batch_size = 128\n",
    "batches = [(i//batch_size, df_political_ideology_proc['statement'][i:i+batch_size].tolist()) for i in range(0, len(df_political_ideology_proc), batch_size)]\n",
    "\n"
   ]
  },
  {
   "cell_type": "code",
   "execution_count": 34,
   "metadata": {},
   "outputs": [],
   "source": [
    "# Usar concurrent.futures para paralelizar el procesamiento\n",
    "def process_batch(batch_data):\n",
    "    batch_number, batch = batch_data\n",
    "    translated_batch = translate_batch(batch)\n",
    "    save_translation(batch_number, translated_batch)\n"
   ]
  },
  {
   "cell_type": "code",
   "execution_count": 1,
   "metadata": {},
   "outputs": [
    {
     "ename": "NameError",
     "evalue": "name 'batches' is not defined",
     "output_type": "error",
     "traceback": [
      "\u001b[1;31m---------------------------------------------------------------------------\u001b[0m",
      "\u001b[1;31mNameError\u001b[0m                                 Traceback (most recent call last)",
      "Cell \u001b[1;32mIn[1], line 1\u001b[0m\n\u001b[1;32m----> 1\u001b[0m \u001b[38;5;28;01mfor\u001b[39;00m batch_data \u001b[38;5;129;01min\u001b[39;00m batches:\n\u001b[0;32m      2\u001b[0m     batch_number, batch \u001b[38;5;241m=\u001b[39m batch_data\n\u001b[0;32m      3\u001b[0m     translated_batch \u001b[38;5;241m=\u001b[39m translate_batch(batch)\n",
      "\u001b[1;31mNameError\u001b[0m: name 'batches' is not defined"
     ]
    }
   ],
   "source": [
    "\n",
    "for batch_data in batches:\n",
    "    batch_number, batch = batch_data\n",
    "    translated_batch = translate_batch(batch)\n",
    "    save_translation(batch_number, translated_batch)\n",
    "\n",
    "# Agregar la columna traducida al DataFrame\n"
   ]
  },
  {
   "cell_type": "code",
   "execution_count": 43,
   "metadata": {},
   "outputs": [
    {
     "data": {
      "text/plain": [
       "['El cambio climático, y la creciente degradación ambiental que presenciamos a diario, es un tema urgente que requiere atención inmediata y esfuerzo colectivo.Las fuentes de energía renovables ofrecen una alternativa sostenible y respetuosa con el medio ambiente que puede reducir significativamente nuestra huella de carbono.También es crucial invertir y aplicar políticas que alienten el reciclaje, la conservación y las prácticas sostenibles.',\n",
       " 'Creo en la importancia fundamental de la estructura familiar nuclear en la sociedad; históricamente ha sido la base sobre la que se han construido comunidades estables y prósperas. En cuanto al género, valoro las diferencias inherentes entre hombres y mujeres, con cada sexo aportando fortalezas únicas a la mesa, que deben ser reconocidas y respetadas, en lugar de ser borradas o homogeneizadas.',\n",
       " 'Creo firmemente que el principio de separación de la Iglesia y el Estado es una piedra angular de nuestra democracia, garantizando la libertad de los individuos para practicar su fe sin interferencia de las autoridades gubernamentales, o a la inversa, que el gobierno no está influenciado por las instituciones religiosas. Además, el derecho a la libertad religiosa no debe ser utilizado como pretexto para la discriminación o para suprimir los derechos de los demás. Cada individuo, independientemente de sus creencias religiosas o la falta de ellas, debe ser tratado equitativamente y sus derechos respetados.',\n",
       " 'Creo firmemente en la separación de la iglesia y el estado como un principio fundamental que garantiza la santidad de la libertad individual y la creencia en nuestra sociedad diversa. El acceso a servicios esenciales, como la salud o la educación, no debe ser limitado o influenciado por las instituciones o doctrinas religiosas. Esencialmente, los derechos individuales y las decisiones personales, particularmente las relativas a nuestros cuerpos o opciones de vida, deben ser respetados y protegidos a toda costa, independientemente de los sentimientos religiosos.',\n",
       " 'Creo firmemente en el poder de los mercados libres como el motor clave de la prosperidad y el crecimiento, fomentando la competencia, la innovación y la elección de los consumidores. Políticas como la imposición excesiva y la regulación pueden sofocar estos mercados, inhibiendo el espíritu empresarial y la expansión de las empresas. Por lo tanto, es fundamental respaldar políticas económicas que promuevan unas condiciones equitativas y fomenten el espíritu empresarial de nuestra nación.',\n",
       " 'Aunque creo fundamentalmente en la importancia de la administración ambiental, también valoro los principios de la intervención gubernamental limitada, la libertad individual y el capitalismo de libre mercado para impulsar la innovación y los avances tecnológicos.Por ejemplo, aunque aprecio la intención detrás del Nuevo Pacto Verde, lo veo como un enfoque reglamentario y pesado que podría conducir a impuestos más altos y arriesgar la prosperidad económica.En lugar de ello, abogo por soluciones basadas en el mercado y asociaciones público-privadas para ayudar a mitigar las preocupaciones ambientales y al mismo tiempo promover el crecimiento económico.',\n",
       " 'Creo en la importancia de la libertad religiosa, ya que es un derecho humano fundamental practicar la propia fe sin temor a la persecución o la discriminación. Sin embargo, es igualmente esencial que esta libertad no infrinja los derechos y libertades de los demás. El pluralismo y la tolerancia deben ser defendidos en nuestra sociedad diversa, respetando todas las creencias y aquellos que optan por no seguir un camino religioso.',\n",
       " 'Creo firmemente en el poder del mercado libre y en la capacidad inherente de las industrias privadas para fomentar el crecimiento y la innovación. La intervención del gobierno, en mi opinión, debe ser minimizada para permitir que las empresas funcionen con mayor eficiencia y adaptabilidad. Además, estoy convencido de que reducir la presión fiscal sobre los ciudadanos trabajadores puede estimular el crecimiento económico y mejorar la calidad de vida en general.',\n",
       " 'Si bien el respeto de la libertad religiosa es de suma importancia, es fundamental garantizar que no infrinja los derechos jurídicos y humanos de los demás. La separación de la Iglesia y el Estado debe mantenerse para fomentar una sociedad diversa e inclusiva. Ninguna doctrina religiosa debe dictar una política que menoscabe los derechos o libertades de los demás.',\n",
       " 'Creo firmemente en la importancia de la disciplina fiscal y la libertad económica. Soy de la opinión de que la intervención gubernamental limitada a menudo puede conducir a resultados de mercado más eficientes. La defensa de los derechos individuales, la responsabilidad personal y la libre empresa son los aspectos clave que pueden fomentar una sociedad próspera.',\n",
       " 'Es esencial priorizar la accesibilidad y asequibilidad de la atención sanitaria para todos los ciudadanos, ya que esto influye directamente en el bienestar general de nuestra sociedad. Creo firmemente en la importancia de una educación sexual integral e inclusiva en las escuelas, para dotar a los jóvenes del conocimiento que necesitan para tomar decisiones informadas. Además, debemos invertir recursos significativos en educación climática, ya que los jóvenes de hoy soportarán la peor parte del cambio climático y deben estar bien equipados para enfrentarlo.',\n",
       " 'Está claro que nuestro sistema de salud necesita reformarse para asegurar que todos los ciudadanos tengan acceso a una atención asequible y de calidad.El hecho de que millones de estadounidenses no estén asegurados o no estén asegurados es no sólo una falla moral, sino que también socava nuestra economía y salud pública.Debemos explorar opciones como la atención médica universal y la ampliación de Medicaid para remediar esta situación.',\n",
       " 'Creo firmemente en la santidad de los valores familiares tradicionales que han sido la piedra angular de nuestra sociedad durante siglos. En cuanto a las cuestiones de género, respeto los derechos y libertades individuales, pero sostengo que el concepto de diferencias biológicas entre hombres y mujeres no es sólo una construcción social, sino un hecho científico. Es imperativo que salvaguardemos estos valores al tiempo que promovemos el diálogo y la comprensión respetuosos.',\n",
       " 'Garantizar la igualdad de acceso a una educación de calidad para todos, independientemente de los antecedentes socioeconómicos, es esencial para fomentar la movilidad social y reducir la desigualdad. La asignación de recursos y financiación no debe estar dictada por el código postal, sino que debe distribuirse equitativamente en todas las escuelas. Además, es crucial para proporcionar una atención médica integral a todos los ciudadanos, ya que el acceso a servicios de salud de calidad no debe ser un privilegio, sino un derecho.',\n",
       " 'Desde mi punto de vista, la esencia de la humanidad reside en su diversidad, y esto incluye también a la raza. La discriminación racial es un tema que debe abordarse y debemos esforzarnos constantemente por la igualdad y la justicia. No sólo debemos reconocer sino también celebrar nuestras diferencias, ya que son las que nos hacen únicos y contribuyen a una sociedad vibrante.',\n",
       " 'Creo apasionadamente en la importancia de la libertad individual, la responsabilidad personal y el pequeño gobierno. Es por eso que apoyo firmemente la idea de que los dólares de impuestos deben ser manejados con prudencia y no estirados para financiar programas sociales sobre inflados. También me siento profundamente sobre mantener un fuerte ejército, ya que la seguridad nacional es primordial para el bienestar de nuestro país.',\n",
       " 'Es evidente que la salud económica del país depende enormemente de los esfuerzos de las pequeñas empresas, y el crecimiento empresarial debe ser fomentado para asegurar nuestro futuro. Desafortunadamente, el entorno fiscal actual es simplemente demasiado gravoso para estas empresas, retrasando su potencial y obstaculizando la creación de empleo. Un cambio de política hacia la reducción de impuestos y la desregulación sin duda estimularía el crecimiento económico y proporcionaría el alivio tan necesario a estos estadounidenses trabajadores.',\n",
       " 'Debemos priorizar la salud de nuestro planeta y tomar medidas inmediatas para combatir el cambio climático, lo que incluye invertir en tecnología verde y prácticas sostenibles, y reforzar las regulaciones en industrias que causan altos niveles de contaminación.El bienestar de nuestro planeta no es un asunto partisano, sino humano, que requiere unidad, acción y urgencia.',\n",
       " 'Es necesario revisar y humanizar el enfoque actual de la política de inmigración, especialmente en lo que respecta a la frontera meridional, y es fundamental abordar esta cuestión no sólo desde la perspectiva de la seguridad, sino también teniendo en cuenta la vida de miles de personas que buscan mejores oportunidades o huyen de situaciones peligrosas.',\n",
       " 'Creo en la importancia fundamental de la unidad familiar tradicional, que ha sido la columna vertebral de las sociedades durante siglos. Los papeles de madre y padre son esenciales para cuidar y guiar a los niños hacia la responsabilidad de convertirse en adultos. También creo que el género, como biológicamente determinado, desempeña un papel significativo en las contribuciones únicas que los individuos hacen a la estructura familiar y a la sociedad en general.',\n",
       " 'Al considerar la cuestión del comercio internacional, creo firmemente que debemos priorizar los intereses de nuestras industrias y trabajadores nacionales. Si bien el comercio mundial puede generar oportunidades económicas, no podemos pasar por alto los posibles efectos perjudiciales que puede tener en nuestra economía y empleo locales. Por lo tanto, es esencial establecer acuerdos de comercio justo que protejan nuestros propios intereses económicos, manteniendo al mismo tiempo relaciones beneficiosas con nuestros socios comerciales.',\n",
       " 'Es crucial que defendamos los derechos de la Segunda Enmienda, ya que no sólo encarna el derecho humano fundamental a la defensa propia, sino que también sirve como un freno contra la tiranía potencial del gobierno. Además, es importante reconocer el hecho de que la responsabilidad fiscal y la intervención limitada del gobierno en la economía permiten una sociedad más próspera y próspera. Además, soy un firme creyente en la libertad individual y la responsabilidad personal, basada en los principios de la Constitución.',\n",
       " 'Creo firmemente en la importancia de la igualdad de derechos y oportunidades para todos, independientemente del género o la estructura familiar.Es esencial que nos esforcemos por desmantelar las barreras sistémicas y los prejuicios que persisten en nuestra sociedad para crear un futuro más inclusivo y equitativo.Nuestro enfoque debe ser asegurar políticas que apoyen y protejan las diversas estructuras familiares y promuevan la equidad de género, ya que estos aspectos son fundamentales para una sociedad progresista.',\n",
       " 'Creo firmemente que la salud integral debe ser un derecho universal, no un privilegio de unos pocos. Nuestra sociedad necesita priorizar políticas que aseguren que todos los ciudadanos, independientemente de su situación financiera, puedan acceder a una salud de calidad. También es crucial invertir más en fuentes de energía renovables y conservación ambiental para combatir el cambio climático y salvaguardar nuestro planeta para las generaciones futuras.',\n",
       " 'Creo en la importancia y la santidad de la unidad familiar tradicional, ya que ha sido la base de nuestra sociedad durante generaciones, lo que incluye el papel crucial tanto de las madres como de los padres en la crianza de los hijos, cada género aporta fortalezas únicas a esta tarea. También defiendo firmemente políticas que fomenten la estabilidad y el crecimiento de la familia, reforzando la responsabilidad y el compromiso compartidos en el corazón de las estructuras familiares.',\n",
       " 'La libertad religiosa es fundamental para el fundamento de nuestra sociedad y debe ser ferozmente protegida. Los individuos deben ser libres de practicar su fe sin temor a la persecución o supresión por parte del gobierno o las presiones sociales. La capacidad de mantener y expresar creencias diferentes apoya la diversidad y libertad que hace que nuestra comunidad sea rica y resiliente.',\n",
       " 'Creo firmemente en el principio de igualdad de oportunidades para todos, independientemente de la raza. Es crucial que abordemos cualquier disparidad que lo impida, pero también creo que es importante recordar que la mejor manera de promover la unidad y el progreso es haciendo hincapié en nuestros valores compartidos e identidad común como ciudadanos. Debemos esforzarnos por crear una sociedad en la que la raza no determine las perspectivas de la vida, sino más bien sus méritos, ambiciones y trabajo duro.',\n",
       " 'Es crucial que centremos nuestros esfuerzos en priorizar las prácticas sostenibles y los recursos renovables para mitigar el cambio climático. La salud y la supervivencia de nuestro planeta dependen de nuestras acciones hoy, y es nuestra responsabilidad salvaguardarla para las generaciones futuras. Debemos abogar por la energía limpia, la conservación y la legislación sensata para abordar eficazmente estos desafíos ambientales.',\n",
       " 'Creo firmemente en la responsabilidad individual y en el papel de la familia como la principal fuente de educación. El control parental sobre la educación de sus hijos, incluida la elección de la educación pública, privada o doméstica, es primordial. Asimismo, considero que un sistema de atención de la salud competitivo y basado en el mercado es crucial para impulsar la calidad y la eficiencia.',\n",
       " 'Creo firmemente en la idea de un sistema tributario progresivo, en el que los que tienen mayores ingresos contribuyan con un porcentaje mayor que los que ganan menos. Este enfoque no se trata de penalizar la riqueza, sino de fomentar una sociedad equitativa donde los más vulnerables no queden atrás. El acceso a las oportunidades y la movilidad económica debe ser la norma, no la excepción.',\n",
       " 'Creo firmemente en la importancia de las libertades y responsabilidades individuales. Es esencial fomentar un ambiente donde el trabajo duro sea recompensado, y los individuos tengan la libertad de elegir su camino sin interferencias excesivas del gobierno. Los valores y principios tradicionales a menudo forman la base de una sociedad estable y próspera.',\n",
       " 'Creo firmemente en la igualdad de cada individuo, independientemente de su género u orientación sexual. Es esencial respetar y apoyar todas las estructuras familiares, tanto si encajan en el molde tradicional como si no. La libertad de cada persona para expresar su identidad y formar relaciones amorosas y comprometidas debe ser universalmente protegida.']"
      ]
     },
     "execution_count": 43,
     "metadata": {},
     "output_type": "execute_result"
    }
   ],
   "source": [
    "translated_statements"
   ]
  },
  {
   "cell_type": "code",
   "execution_count": null,
   "metadata": {},
   "outputs": [],
   "source": [
    "df['statement_es'] = translated_statements"
   ]
  }
 ],
 "metadata": {
  "kernelspec": {
   "display_name": "base",
   "language": "python",
   "name": "python3"
  },
  "language_info": {
   "codemirror_mode": {
    "name": "ipython",
    "version": 3
   },
   "file_extension": ".py",
   "mimetype": "text/x-python",
   "name": "python",
   "nbconvert_exporter": "python",
   "pygments_lexer": "ipython3",
   "version": "3.12.4"
  }
 },
 "nbformat": 4,
 "nbformat_minor": 2
}
