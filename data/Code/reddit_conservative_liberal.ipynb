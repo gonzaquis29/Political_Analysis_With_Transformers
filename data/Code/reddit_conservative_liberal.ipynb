{
  "cells": [
    {
      "cell_type": "code",
      "execution_count": 1,
      "metadata": {
        "id": "L3GqqB-SZlHU"
      },
      "outputs": [],
      "source": [
        "import numpy as np\n",
        "import pandas as pd"
      ]
    },
    {
      "cell_type": "code",
      "execution_count": 2,
      "metadata": {
        "colab": {
          "base_uri": "https://localhost:8080/",
          "height": 206
        },
        "id": "3AcEUN0FZlHa",
        "outputId": "c836fb6d-7b02-4c7c-c88d-caede0c8406b"
      },
      "outputs": [
        {
          "data": {
            "text/html": [
              "<div>\n",
              "<style scoped>\n",
              "    .dataframe tbody tr th:only-of-type {\n",
              "        vertical-align: middle;\n",
              "    }\n",
              "\n",
              "    .dataframe tbody tr th {\n",
              "        vertical-align: top;\n",
              "    }\n",
              "\n",
              "    .dataframe thead th {\n",
              "        text-align: right;\n",
              "    }\n",
              "</style>\n",
              "<table border=\"1\" class=\"dataframe\">\n",
              "  <thead>\n",
              "    <tr style=\"text-align: right;\">\n",
              "      <th></th>\n",
              "      <th>Title</th>\n",
              "      <th>Political Lean</th>\n",
              "      <th>Score</th>\n",
              "      <th>Text</th>\n",
              "    </tr>\n",
              "  </thead>\n",
              "  <tbody>\n",
              "    <tr>\n",
              "      <th>0</th>\n",
              "      <td>No matter who someone is, how they look like, ...</td>\n",
              "      <td>Liberal</td>\n",
              "      <td>1</td>\n",
              "      <td></td>\n",
              "    </tr>\n",
              "    <tr>\n",
              "      <th>1</th>\n",
              "      <td>Biden speech draws 38.2 million U.S. TV viewers</td>\n",
              "      <td>Liberal</td>\n",
              "      <td>6</td>\n",
              "      <td></td>\n",
              "    </tr>\n",
              "    <tr>\n",
              "      <th>2</th>\n",
              "      <td>State of the union</td>\n",
              "      <td>Liberal</td>\n",
              "      <td>1</td>\n",
              "      <td>Who watched the state of the union last night ...</td>\n",
              "    </tr>\n",
              "    <tr>\n",
              "      <th>3</th>\n",
              "      <td>We Should Just Give Poor People Money</td>\n",
              "      <td>Liberal</td>\n",
              "      <td>7</td>\n",
              "      <td></td>\n",
              "    </tr>\n",
              "    <tr>\n",
              "      <th>4</th>\n",
              "      <td>Do it for the Dew</td>\n",
              "      <td>Liberal</td>\n",
              "      <td>6</td>\n",
              "      <td></td>\n",
              "    </tr>\n",
              "  </tbody>\n",
              "</table>\n",
              "</div>"
            ],
            "text/plain": [
              "                                               Title Political Lean  Score  \\\n",
              "0  No matter who someone is, how they look like, ...        Liberal      1   \n",
              "1    Biden speech draws 38.2 million U.S. TV viewers        Liberal      6   \n",
              "2                                 State of the union        Liberal      1   \n",
              "3              We Should Just Give Poor People Money        Liberal      7   \n",
              "4                                  Do it for the Dew        Liberal      6   \n",
              "\n",
              "                                                Text  \n",
              "0                                                     \n",
              "1                                                     \n",
              "2  Who watched the state of the union last night ...  \n",
              "3                                                     \n",
              "4                                                     "
            ]
          },
          "execution_count": 2,
          "metadata": {},
          "output_type": "execute_result"
        }
      ],
      "source": [
        "reddit_politics = pd.read_csv(\"reddit_filtered_dataset.csv\")\n",
        "reddit_politics.head()"
      ]
    },
    {
      "cell_type": "code",
      "execution_count": 3,
      "metadata": {
        "id": "xnTYCuTKeBmX"
      },
      "outputs": [],
      "source": [
        "reddit_politics_shuffled = reddit_politics.sample(frac=1, random_state=42)"
      ]
    },
    {
      "cell_type": "code",
      "execution_count": 4,
      "metadata": {
        "colab": {
          "base_uri": "https://localhost:8080/",
          "height": 293
        },
        "id": "A3teR4GPeE-k",
        "outputId": "a0f9c444-0246-4574-d4ae-e3f3a7688147"
      },
      "outputs": [
        {
          "data": {
            "text/html": [
              "<div>\n",
              "<style scoped>\n",
              "    .dataframe tbody tr th:only-of-type {\n",
              "        vertical-align: middle;\n",
              "    }\n",
              "\n",
              "    .dataframe tbody tr th {\n",
              "        vertical-align: top;\n",
              "    }\n",
              "\n",
              "    .dataframe thead th {\n",
              "        text-align: right;\n",
              "    }\n",
              "</style>\n",
              "<table border=\"1\" class=\"dataframe\">\n",
              "  <thead>\n",
              "    <tr style=\"text-align: right;\">\n",
              "      <th></th>\n",
              "      <th>Title</th>\n",
              "      <th>Political Lean</th>\n",
              "      <th>Score</th>\n",
              "      <th>Text</th>\n",
              "    </tr>\n",
              "  </thead>\n",
              "  <tbody>\n",
              "    <tr>\n",
              "      <th>7444</th>\n",
              "      <td>Happy holidays! Socially distanced celebration...</td>\n",
              "      <td>Liberal</td>\n",
              "      <td>24</td>\n",
              "      <td></td>\n",
              "    </tr>\n",
              "    <tr>\n",
              "      <th>10822</th>\n",
              "      <td>Sandy Hook families settle with Remington mark...</td>\n",
              "      <td>Conservative</td>\n",
              "      <td>90</td>\n",
              "      <td></td>\n",
              "    </tr>\n",
              "    <tr>\n",
              "      <th>12647</th>\n",
              "      <td>What is land claimed versus land owned? : newc...</td>\n",
              "      <td>Conservative</td>\n",
              "      <td>1</td>\n",
              "      <td></td>\n",
              "    </tr>\n",
              "    <tr>\n",
              "      <th>311</th>\n",
              "      <td>What would you say are some skippable/ less im...</td>\n",
              "      <td>Liberal</td>\n",
              "      <td>2</td>\n",
              "      <td>Some of the essays and books that were really ...</td>\n",
              "    </tr>\n",
              "    <tr>\n",
              "      <th>3353</th>\n",
              "      <td>2 lawyers arguing against Biden's vaccine mand...</td>\n",
              "      <td>Liberal</td>\n",
              "      <td>730</td>\n",
              "      <td></td>\n",
              "    </tr>\n",
              "  </tbody>\n",
              "</table>\n",
              "</div>"
            ],
            "text/plain": [
              "                                                   Title Political Lean  \\\n",
              "7444   Happy holidays! Socially distanced celebration...        Liberal   \n",
              "10822  Sandy Hook families settle with Remington mark...   Conservative   \n",
              "12647  What is land claimed versus land owned? : newc...   Conservative   \n",
              "311    What would you say are some skippable/ less im...        Liberal   \n",
              "3353   2 lawyers arguing against Biden's vaccine mand...        Liberal   \n",
              "\n",
              "       Score                                               Text  \n",
              "7444      24                                                     \n",
              "10822     90                                                     \n",
              "12647      1                                                     \n",
              "311        2  Some of the essays and books that were really ...  \n",
              "3353     730                                                     "
            ]
          },
          "execution_count": 4,
          "metadata": {},
          "output_type": "execute_result"
        }
      ],
      "source": [
        "reddit_politics_shuffled.head()"
      ]
    },
    {
      "cell_type": "code",
      "execution_count": 40,
      "metadata": {
        "id": "O7LeZ1DieHT9"
      },
      "outputs": [],
      "source": [
        "reddit_politics_shuffled.to_csv(\"reddit_posts_shuffled.csv\")"
      ]
    },
    {
      "cell_type": "code",
      "execution_count": null,
      "metadata": {},
      "outputs": [],
      "source": []
    },
    {
      "cell_type": "code",
      "execution_count": 28,
      "metadata": {
        "id": "dgO6jTBchSOy"
      },
      "outputs": [],
      "source": [
        "import pandas as pd\n",
        "import argostranslate.package\n",
        "import argostranslate.translate\n",
        "from concurrent.futures import ProcessPoolExecutor\n",
        "import multiprocessing\n",
        "import os\n"
      ]
    },
    {
      "cell_type": "code",
      "execution_count": 44,
      "metadata": {},
      "outputs": [
        {
          "data": {
            "text/html": [
              "<div>\n",
              "<style scoped>\n",
              "    .dataframe tbody tr th:only-of-type {\n",
              "        vertical-align: middle;\n",
              "    }\n",
              "\n",
              "    .dataframe tbody tr th {\n",
              "        vertical-align: top;\n",
              "    }\n",
              "\n",
              "    .dataframe thead th {\n",
              "        text-align: right;\n",
              "    }\n",
              "</style>\n",
              "<table border=\"1\" class=\"dataframe\">\n",
              "  <thead>\n",
              "    <tr style=\"text-align: right;\">\n",
              "      <th></th>\n",
              "      <th>Unnamed: 0</th>\n",
              "      <th>Title</th>\n",
              "      <th>Political Lean</th>\n",
              "      <th>Score</th>\n",
              "      <th>Text</th>\n",
              "    </tr>\n",
              "  </thead>\n",
              "  <tbody>\n",
              "    <tr>\n",
              "      <th>0</th>\n",
              "      <td>7444</td>\n",
              "      <td>Happy holidays! Socially distanced celebration...</td>\n",
              "      <td>Liberal</td>\n",
              "      <td>24</td>\n",
              "      <td></td>\n",
              "    </tr>\n",
              "    <tr>\n",
              "      <th>1</th>\n",
              "      <td>10822</td>\n",
              "      <td>Sandy Hook families settle with Remington mark...</td>\n",
              "      <td>Conservative</td>\n",
              "      <td>90</td>\n",
              "      <td></td>\n",
              "    </tr>\n",
              "    <tr>\n",
              "      <th>2</th>\n",
              "      <td>12647</td>\n",
              "      <td>What is land claimed versus land owned? : newc...</td>\n",
              "      <td>Conservative</td>\n",
              "      <td>1</td>\n",
              "      <td></td>\n",
              "    </tr>\n",
              "    <tr>\n",
              "      <th>3</th>\n",
              "      <td>311</td>\n",
              "      <td>What would you say are some skippable/ less im...</td>\n",
              "      <td>Liberal</td>\n",
              "      <td>2</td>\n",
              "      <td>Some of the essays and books that were really ...</td>\n",
              "    </tr>\n",
              "    <tr>\n",
              "      <th>4</th>\n",
              "      <td>3353</td>\n",
              "      <td>2 lawyers arguing against Biden's vaccine mand...</td>\n",
              "      <td>Liberal</td>\n",
              "      <td>730</td>\n",
              "      <td></td>\n",
              "    </tr>\n",
              "  </tbody>\n",
              "</table>\n",
              "</div>"
            ],
            "text/plain": [
              "   Unnamed: 0                                              Title  \\\n",
              "0        7444  Happy holidays! Socially distanced celebration...   \n",
              "1       10822  Sandy Hook families settle with Remington mark...   \n",
              "2       12647  What is land claimed versus land owned? : newc...   \n",
              "3         311  What would you say are some skippable/ less im...   \n",
              "4        3353  2 lawyers arguing against Biden's vaccine mand...   \n",
              "\n",
              "  Political Lean  Score                                               Text  \n",
              "0        Liberal     24                                                     \n",
              "1   Conservative     90                                                     \n",
              "2   Conservative      1                                                     \n",
              "3        Liberal      2  Some of the essays and books that were really ...  \n",
              "4        Liberal    730                                                     "
            ]
          },
          "execution_count": 44,
          "metadata": {},
          "output_type": "execute_result"
        }
      ],
      "source": [
        "reddit_posts = pd.read_csv(\"reddit_posts_shuffled.csv\")\n",
        "\n",
        "reddit_posts.head()"
      ]
    },
    {
      "cell_type": "code",
      "execution_count": 45,
      "metadata": {},
      "outputs": [],
      "source": [
        "reddit_posts = reddit_posts.drop('Unnamed: 0', axis=1)\n"
      ]
    },
    {
      "cell_type": "code",
      "execution_count": 46,
      "metadata": {},
      "outputs": [
        {
          "data": {
            "text/html": [
              "<div>\n",
              "<style scoped>\n",
              "    .dataframe tbody tr th:only-of-type {\n",
              "        vertical-align: middle;\n",
              "    }\n",
              "\n",
              "    .dataframe tbody tr th {\n",
              "        vertical-align: top;\n",
              "    }\n",
              "\n",
              "    .dataframe thead th {\n",
              "        text-align: right;\n",
              "    }\n",
              "</style>\n",
              "<table border=\"1\" class=\"dataframe\">\n",
              "  <thead>\n",
              "    <tr style=\"text-align: right;\">\n",
              "      <th></th>\n",
              "      <th>Title</th>\n",
              "      <th>Political Lean</th>\n",
              "      <th>Score</th>\n",
              "      <th>Text</th>\n",
              "    </tr>\n",
              "  </thead>\n",
              "  <tbody>\n",
              "    <tr>\n",
              "      <th>0</th>\n",
              "      <td>Happy holidays! Socially distanced celebration...</td>\n",
              "      <td>Liberal</td>\n",
              "      <td>24</td>\n",
              "      <td></td>\n",
              "    </tr>\n",
              "    <tr>\n",
              "      <th>1</th>\n",
              "      <td>Sandy Hook families settle with Remington mark...</td>\n",
              "      <td>Conservative</td>\n",
              "      <td>90</td>\n",
              "      <td></td>\n",
              "    </tr>\n",
              "    <tr>\n",
              "      <th>2</th>\n",
              "      <td>What is land claimed versus land owned? : newc...</td>\n",
              "      <td>Conservative</td>\n",
              "      <td>1</td>\n",
              "      <td></td>\n",
              "    </tr>\n",
              "    <tr>\n",
              "      <th>3</th>\n",
              "      <td>What would you say are some skippable/ less im...</td>\n",
              "      <td>Liberal</td>\n",
              "      <td>2</td>\n",
              "      <td>Some of the essays and books that were really ...</td>\n",
              "    </tr>\n",
              "    <tr>\n",
              "      <th>4</th>\n",
              "      <td>2 lawyers arguing against Biden's vaccine mand...</td>\n",
              "      <td>Liberal</td>\n",
              "      <td>730</td>\n",
              "      <td></td>\n",
              "    </tr>\n",
              "  </tbody>\n",
              "</table>\n",
              "</div>"
            ],
            "text/plain": [
              "                                               Title Political Lean  Score  \\\n",
              "0  Happy holidays! Socially distanced celebration...        Liberal     24   \n",
              "1  Sandy Hook families settle with Remington mark...   Conservative     90   \n",
              "2  What is land claimed versus land owned? : newc...   Conservative      1   \n",
              "3  What would you say are some skippable/ less im...        Liberal      2   \n",
              "4  2 lawyers arguing against Biden's vaccine mand...        Liberal    730   \n",
              "\n",
              "                                                Text  \n",
              "0                                                     \n",
              "1                                                     \n",
              "2                                                     \n",
              "3  Some of the essays and books that were really ...  \n",
              "4                                                     "
            ]
          },
          "execution_count": 46,
          "metadata": {},
          "output_type": "execute_result"
        }
      ],
      "source": [
        "reddit_posts.head()"
      ]
    },
    {
      "cell_type": "markdown",
      "metadata": {},
      "source": [
        "### Etapa de traducción de este corpus"
      ]
    },
    {
      "cell_type": "code",
      "execution_count": null,
      "metadata": {},
      "outputs": [],
      "source": [
        "reddit_posts"
      ]
    },
    {
      "cell_type": "code",
      "execution_count": 52,
      "metadata": {},
      "outputs": [
        {
          "ename": "Exception",
          "evalue": "Not a valid Argos Model (must be a zip archive)",
          "output_type": "error",
          "traceback": [
            "\u001b[1;31m---------------------------------------------------------------------------\u001b[0m",
            "\u001b[1;31mException\u001b[0m                                 Traceback (most recent call last)",
            "Cell \u001b[1;32mIn[52], line 4\u001b[0m\n\u001b[0;32m      1\u001b[0m \u001b[38;5;28;01mfrom\u001b[39;00m \u001b[38;5;21;01margostranslate\u001b[39;00m \u001b[38;5;28;01mimport\u001b[39;00m package, translate\n\u001b[0;32m      3\u001b[0m package\u001b[38;5;241m.\u001b[39mupdate_package_index()\n\u001b[1;32m----> 4\u001b[0m package\u001b[38;5;241m.\u001b[39minstall_from_path(\u001b[38;5;124m'\u001b[39m\u001b[38;5;124men_es\u001b[39m\u001b[38;5;124m'\u001b[39m)\n",
            "File \u001b[1;32mc:\\Users\\Gonzalo\\anaconda3\\Lib\\site-packages\\argostranslate\\package.py:249\u001b[0m, in \u001b[0;36minstall_from_path\u001b[1;34m(path)\u001b[0m\n\u001b[0;32m    247\u001b[0m \u001b[38;5;28;01mwith\u001b[39;00m package_lock:\n\u001b[0;32m    248\u001b[0m     \u001b[38;5;28;01mif\u001b[39;00m \u001b[38;5;129;01mnot\u001b[39;00m zipfile\u001b[38;5;241m.\u001b[39mis_zipfile(path):\n\u001b[1;32m--> 249\u001b[0m         \u001b[38;5;28;01mraise\u001b[39;00m \u001b[38;5;167;01mException\u001b[39;00m(\u001b[38;5;124m\"\u001b[39m\u001b[38;5;124mNot a valid Argos Model (must be a zip archive)\u001b[39m\u001b[38;5;124m\"\u001b[39m)\n\u001b[0;32m    250\u001b[0m     \u001b[38;5;28;01mwith\u001b[39;00m zipfile\u001b[38;5;241m.\u001b[39mZipFile(path, \u001b[38;5;124m\"\u001b[39m\u001b[38;5;124mr\u001b[39m\u001b[38;5;124m\"\u001b[39m) \u001b[38;5;28;01mas\u001b[39;00m zipf:\n\u001b[0;32m    251\u001b[0m         zipf\u001b[38;5;241m.\u001b[39mextractall(path\u001b[38;5;241m=\u001b[39msettings\u001b[38;5;241m.\u001b[39mpackage_data_dir)\n",
            "\u001b[1;31mException\u001b[0m: Not a valid Argos Model (must be a zip archive)"
          ]
        }
      ],
      "source": [
        "from argostranslate import package, translate\n",
        "\n",
        "package.update_package_index()\n",
        "package.install_from_path('en_es')"
      ]
    },
    {
      "cell_type": "code",
      "execution_count": 50,
      "metadata": {},
      "outputs": [
        {
          "ename": "AttributeError",
          "evalue": "module 'argostranslate' has no attribute 'download_package'",
          "output_type": "error",
          "traceback": [
            "\u001b[1;31m---------------------------------------------------------------------------\u001b[0m",
            "\u001b[1;31mAttributeError\u001b[0m                            Traceback (most recent call last)",
            "Cell \u001b[1;32mIn[50], line 2\u001b[0m\n\u001b[0;32m      1\u001b[0m \u001b[38;5;66;03m# Descarga el paquete (si no está descargado aún)\u001b[39;00m\n\u001b[1;32m----> 2\u001b[0m argostranslate\u001b[38;5;241m.\u001b[39mdownload_package(\u001b[38;5;124m\"\u001b[39m\u001b[38;5;124men-es\u001b[39m\u001b[38;5;124m\"\u001b[39m)\n\u001b[0;32m      4\u001b[0m \u001b[38;5;66;03m# Carga el paquete\u001b[39;00m\n\u001b[0;32m      5\u001b[0m translator \u001b[38;5;241m=\u001b[39m translate\u001b[38;5;241m.\u001b[39mTranslator(\u001b[38;5;124m\"\u001b[39m\u001b[38;5;124men-es\u001b[39m\u001b[38;5;124m\"\u001b[39m)\n",
            "\u001b[1;31mAttributeError\u001b[0m: module 'argostranslate' has no attribute 'download_package'"
          ]
        }
      ],
      "source": [
        "# Descarga el paquete (si no está descargado aún)\n",
        "argostranslate.download_package(\"en-es\")\n",
        "\n",
        "# Carga el paquete\n",
        "translator = translate.Translator(\"en-es\")"
      ]
    },
    {
      "cell_type": "code",
      "execution_count": 56,
      "metadata": {},
      "outputs": [
        {
          "ename": "AttributeError",
          "evalue": "'NoneType' object has no attribute 'group'",
          "output_type": "error",
          "traceback": [
            "\u001b[1;31m---------------------------------------------------------------------------\u001b[0m",
            "\u001b[1;31mAttributeError\u001b[0m                            Traceback (most recent call last)",
            "Cell \u001b[1;32mIn[56], line 3\u001b[0m\n\u001b[0;32m      1\u001b[0m \u001b[38;5;28;01mfrom\u001b[39;00m \u001b[38;5;21;01mgoogletrans\u001b[39;00m \u001b[38;5;28;01mimport\u001b[39;00m Translator\n\u001b[0;32m      2\u001b[0m translator \u001b[38;5;241m=\u001b[39m Translator()\n\u001b[1;32m----> 3\u001b[0m translator\u001b[38;5;241m.\u001b[39mtranslate(\u001b[38;5;124m'\u001b[39m\u001b[38;5;124m안녕하세요.\u001b[39m\u001b[38;5;124m'\u001b[39m)\n",
            "File \u001b[1;32mc:\\Users\\Gonzalo\\anaconda3\\Lib\\site-packages\\googletrans\\client.py:182\u001b[0m, in \u001b[0;36mTranslator.translate\u001b[1;34m(self, text, dest, src, **kwargs)\u001b[0m\n\u001b[0;32m    179\u001b[0m     \u001b[38;5;28;01mreturn\u001b[39;00m result\n\u001b[0;32m    181\u001b[0m origin \u001b[38;5;241m=\u001b[39m text\n\u001b[1;32m--> 182\u001b[0m data \u001b[38;5;241m=\u001b[39m \u001b[38;5;28mself\u001b[39m\u001b[38;5;241m.\u001b[39m_translate(text, dest, src, kwargs)\n\u001b[0;32m    184\u001b[0m \u001b[38;5;66;03m# this code will be updated when the format is changed.\u001b[39;00m\n\u001b[0;32m    185\u001b[0m translated \u001b[38;5;241m=\u001b[39m \u001b[38;5;124m'\u001b[39m\u001b[38;5;124m'\u001b[39m\u001b[38;5;241m.\u001b[39mjoin([d[\u001b[38;5;241m0\u001b[39m] \u001b[38;5;28;01mif\u001b[39;00m d[\u001b[38;5;241m0\u001b[39m] \u001b[38;5;28;01melse\u001b[39;00m \u001b[38;5;124m'\u001b[39m\u001b[38;5;124m'\u001b[39m \u001b[38;5;28;01mfor\u001b[39;00m d \u001b[38;5;129;01min\u001b[39;00m data[\u001b[38;5;241m0\u001b[39m]])\n",
            "File \u001b[1;32mc:\\Users\\Gonzalo\\anaconda3\\Lib\\site-packages\\googletrans\\client.py:78\u001b[0m, in \u001b[0;36mTranslator._translate\u001b[1;34m(self, text, dest, src, override)\u001b[0m\n\u001b[0;32m     77\u001b[0m \u001b[38;5;28;01mdef\u001b[39;00m \u001b[38;5;21m_translate\u001b[39m(\u001b[38;5;28mself\u001b[39m, text, dest, src, override):\n\u001b[1;32m---> 78\u001b[0m     token \u001b[38;5;241m=\u001b[39m \u001b[38;5;28mself\u001b[39m\u001b[38;5;241m.\u001b[39mtoken_acquirer\u001b[38;5;241m.\u001b[39mdo(text)\n\u001b[0;32m     79\u001b[0m     params \u001b[38;5;241m=\u001b[39m utils\u001b[38;5;241m.\u001b[39mbuild_params(query\u001b[38;5;241m=\u001b[39mtext, src\u001b[38;5;241m=\u001b[39msrc, dest\u001b[38;5;241m=\u001b[39mdest,\n\u001b[0;32m     80\u001b[0m                                 token\u001b[38;5;241m=\u001b[39mtoken, override\u001b[38;5;241m=\u001b[39moverride)\n\u001b[0;32m     82\u001b[0m     url \u001b[38;5;241m=\u001b[39m urls\u001b[38;5;241m.\u001b[39mTRANSLATE\u001b[38;5;241m.\u001b[39mformat(host\u001b[38;5;241m=\u001b[39m\u001b[38;5;28mself\u001b[39m\u001b[38;5;241m.\u001b[39m_pick_service_url())\n",
            "File \u001b[1;32mc:\\Users\\Gonzalo\\anaconda3\\Lib\\site-packages\\googletrans\\gtoken.py:194\u001b[0m, in \u001b[0;36mTokenAcquirer.do\u001b[1;34m(self, text)\u001b[0m\n\u001b[0;32m    193\u001b[0m \u001b[38;5;28;01mdef\u001b[39;00m \u001b[38;5;21mdo\u001b[39m(\u001b[38;5;28mself\u001b[39m, text):\n\u001b[1;32m--> 194\u001b[0m     \u001b[38;5;28mself\u001b[39m\u001b[38;5;241m.\u001b[39m_update()\n\u001b[0;32m    195\u001b[0m     tk \u001b[38;5;241m=\u001b[39m \u001b[38;5;28mself\u001b[39m\u001b[38;5;241m.\u001b[39macquire(text)\n\u001b[0;32m    196\u001b[0m     \u001b[38;5;28;01mreturn\u001b[39;00m tk\n",
            "File \u001b[1;32mc:\\Users\\Gonzalo\\anaconda3\\Lib\\site-packages\\googletrans\\gtoken.py:62\u001b[0m, in \u001b[0;36mTokenAcquirer._update\u001b[1;34m(self)\u001b[0m\n\u001b[0;32m     59\u001b[0m     \u001b[38;5;28;01mreturn\u001b[39;00m\n\u001b[0;32m     61\u001b[0m \u001b[38;5;66;03m# this will be the same as python code after stripping out a reserved word 'var'\u001b[39;00m\n\u001b[1;32m---> 62\u001b[0m code \u001b[38;5;241m=\u001b[39m \u001b[38;5;28mself\u001b[39m\u001b[38;5;241m.\u001b[39mRE_TKK\u001b[38;5;241m.\u001b[39msearch(r\u001b[38;5;241m.\u001b[39mtext)\u001b[38;5;241m.\u001b[39mgroup(\u001b[38;5;241m1\u001b[39m)\u001b[38;5;241m.\u001b[39mreplace(\u001b[38;5;124m'\u001b[39m\u001b[38;5;124mvar \u001b[39m\u001b[38;5;124m'\u001b[39m, \u001b[38;5;124m'\u001b[39m\u001b[38;5;124m'\u001b[39m)\n\u001b[0;32m     63\u001b[0m \u001b[38;5;66;03m# unescape special ascii characters such like a \\x3d(=)\u001b[39;00m\n\u001b[0;32m     64\u001b[0m code \u001b[38;5;241m=\u001b[39m code\u001b[38;5;241m.\u001b[39mencode()\u001b[38;5;241m.\u001b[39mdecode(\u001b[38;5;124m'\u001b[39m\u001b[38;5;124municode-escape\u001b[39m\u001b[38;5;124m'\u001b[39m)\n",
            "\u001b[1;31mAttributeError\u001b[0m: 'NoneType' object has no attribute 'group'"
          ]
        }
      ],
      "source": [
        "from googletrans import Translator\n",
        "translator = Translator()\n",
        "translator.translate('안녕하세요.')\n",
        "# <Translated src=ko dest=en text=Good evening. pronunciation=Good evening.>\n"
      ]
    },
    {
      "cell_type": "code",
      "execution_count": null,
      "metadata": {},
      "outputs": [],
      "source": [
        "translator.translate('안녕하세요.', dest='ja')\n",
        "# <Translated src=ko dest=ja text=こんにちは。 pronunciation=Kon'nichiwa.>\n",
        "translator.translate('veritas lux mea', src='la')\n",
        "# <Translated src=la dest=en text=The truth is my light pronunciation=The truth is my light>\n"
      ]
    },
    {
      "cell_type": "code",
      "execution_count": null,
      "metadata": {},
      "outputs": [],
      "source": []
    }
  ],
  "metadata": {
    "colab": {
      "provenance": []
    },
    "kernelspec": {
      "display_name": "base",
      "language": "python",
      "name": "python3"
    },
    "language_info": {
      "codemirror_mode": {
        "name": "ipython",
        "version": 3
      },
      "file_extension": ".py",
      "mimetype": "text/x-python",
      "name": "python",
      "nbconvert_exporter": "python",
      "pygments_lexer": "ipython3",
      "version": "3.12.4"
    }
  },
  "nbformat": 4,
  "nbformat_minor": 0
}
