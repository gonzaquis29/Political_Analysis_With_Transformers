{
 "cells": [
  {
   "cell_type": "code",
   "execution_count": 25,
   "metadata": {},
   "outputs": [],
   "source": [
    "import requests\n",
    "import pandas as pd\n",
    "import numpy as np\n",
    "\n"
   ]
  },
  {
   "cell_type": "code",
   "execution_count": 47,
   "metadata": {},
   "outputs": [
    {
     "data": {
      "text/html": [
       "<div>\n",
       "<style scoped>\n",
       "    .dataframe tbody tr th:only-of-type {\n",
       "        vertical-align: middle;\n",
       "    }\n",
       "\n",
       "    .dataframe tbody tr th {\n",
       "        vertical-align: top;\n",
       "    }\n",
       "\n",
       "    .dataframe thead th {\n",
       "        text-align: right;\n",
       "    }\n",
       "</style>\n",
       "<table border=\"1\" class=\"dataframe\">\n",
       "  <thead>\n",
       "    <tr style=\"text-align: right;\">\n",
       "      <th></th>\n",
       "      <th>libertad_personal_score</th>\n",
       "      <th>libertad_economica_score</th>\n",
       "      <th>text_processed</th>\n",
       "    </tr>\n",
       "  </thead>\n",
       "  <tbody>\n",
       "    <tr>\n",
       "      <th>0</th>\n",
       "      <td>0</td>\n",
       "      <td>0</td>\n",
       "      <td>declaración principiosfrente victorio</td>\n",
       "    </tr>\n",
       "    <tr>\n",
       "      <th>1</th>\n",
       "      <td>0</td>\n",
       "      <td>0</td>\n",
       "      <td>argentino convicción capacidad construir nuevo...</td>\n",
       "    </tr>\n",
       "    <tr>\n",
       "      <th>2</th>\n",
       "      <td>0</td>\n",
       "      <td>0</td>\n",
       "      <td>crisis ser rostro país ultima década</td>\n",
       "    </tr>\n",
       "    <tr>\n",
       "      <th>3</th>\n",
       "      <td>0</td>\n",
       "      <td>0</td>\n",
       "      <td>crisis económico social institucional político...</td>\n",
       "    </tr>\n",
       "    <tr>\n",
       "      <th>4</th>\n",
       "      <td>1</td>\n",
       "      <td>-1</td>\n",
       "      <td>regla juego claro justo económico social único...</td>\n",
       "    </tr>\n",
       "  </tbody>\n",
       "</table>\n",
       "</div>"
      ],
      "text/plain": [
       "   libertad_personal_score  libertad_economica_score  \\\n",
       "0                        0                         0   \n",
       "1                        0                         0   \n",
       "2                        0                         0   \n",
       "3                        0                         0   \n",
       "4                        1                        -1   \n",
       "\n",
       "                                      text_processed  \n",
       "0              declaración principiosfrente victorio  \n",
       "1  argentino convicción capacidad construir nuevo...  \n",
       "2               crisis ser rostro país ultima década  \n",
       "3  crisis económico social institucional político...  \n",
       "4  regla juego claro justo económico social único...  "
      ]
     },
     "execution_count": 47,
     "metadata": {},
     "output_type": "execute_result"
    }
   ],
   "source": [
    "manifesto_data = pd.read_csv(\"manifesto_preprocessed.csv\")\n",
    "manifesto_data.head()"
   ]
  },
  {
   "cell_type": "code",
   "execution_count": 48,
   "metadata": {},
   "outputs": [
    {
     "name": "stdout",
     "output_type": "stream",
     "text": [
      "Distribución de libertad_personal_score:\n",
      "libertad_personal_score\n",
      " 0    346331\n",
      "-1     58982\n",
      " 1     42784\n",
      "Name: count, dtype: int64\n",
      "\n",
      "Distribución de libertad_economica_score:\n",
      "libertad_economica_score\n",
      " 0    272578\n",
      "-1     94401\n",
      " 1     81118\n",
      "Name: count, dtype: int64\n"
     ]
    }
   ],
   "source": [
    "# Ver distribución de los puntajes\n",
    "print(\"Distribución de libertad_personal_score:\")\n",
    "print(manifesto_data['libertad_personal_score'].value_counts())\n",
    "\n",
    "print(\"\\nDistribución de libertad_economica_score:\")\n",
    "print(manifesto_data['libertad_economica_score'].value_counts())"
   ]
  },
  {
   "cell_type": "code",
   "execution_count": 49,
   "metadata": {},
   "outputs": [
    {
     "name": "stdout",
     "output_type": "stream",
     "text": [
      "\n",
      "Combinaciones de puntajes:\n",
      "   libertad_personal_score  libertad_economica_score  counts\n",
      "0                       -1                        -1   41087\n",
      "1                       -1                         0   17895\n",
      "2                        0                        -1   28396\n",
      "3                        0                         0  236817\n",
      "4                        0                         1   81118\n",
      "5                        1                        -1   24918\n",
      "6                        1                         0   17866\n"
     ]
    }
   ],
   "source": [
    "# Ver combinaciones de ambas columnas\n",
    "combinaciones = manifesto_data.groupby(['libertad_personal_score', 'libertad_economica_score']).size().reset_index(name='counts')\n",
    "print(\"\\nCombinaciones de puntajes:\")\n",
    "print(combinaciones)"
   ]
  },
  {
   "cell_type": "code",
   "execution_count": 74,
   "metadata": {},
   "outputs": [
    {
     "name": "stdout",
     "output_type": "stream",
     "text": [
      "Tamaño original del dataset: 448097\n",
      "Tamaño del dataset balanceado: 267261\n"
     ]
    }
   ],
   "source": [
    "import pandas as pd\n",
    "from sklearn.utils import resample\n",
    "\n",
    "# Paso 1: Subsampling de las clases (0, 0) y otras combinaciones con ceros\n",
    "manifesto_0_0 = manifesto_data[(manifesto_data['libertad_personal_score'] == 0) & (manifesto_data['libertad_economica_score'] == 0)]\n",
    "manifesto_0_menos1 = manifesto_data[(manifesto_data['libertad_personal_score'] == 0) & (manifesto_data['libertad_economica_score'] == -1)]\n",
    "manifesto_0_1 = manifesto_data[(manifesto_data['libertad_personal_score'] == 0) & (manifesto_data['libertad_economica_score'] == 1)]\n",
    "manifesto_otros = manifesto_data[(manifesto_data['libertad_personal_score'] != 0) | (manifesto_data['libertad_economica_score'] != 0)]\n",
    "\n",
    "# Reducir el tamaño de la clase (0, 0) y otras clases con ceros\n",
    "manifesto_0_0_reducido = manifesto_0_0.sample(frac=0.05, random_state=42)  # Submuestreo al 10%\n",
    "manifesto_0_menos1_reducido = manifesto_0_menos1.sample(frac=0.1, random_state=42)  # Submuestreo al 10%\n",
    "manifesto_0_1_reducido = manifesto_0_1.sample(frac=0.1, random_state=42)  # Submuestreo al 10%\n",
    "\n",
    "# Recombinar el dataset con el subsampling aplicado\n",
    "manifesto_balanceado = pd.concat([manifesto_otros, manifesto_0_0_reducido, manifesto_0_menos1_reducido, manifesto_0_1_reducido])\n",
    "\n",
    "# Paso 2: Upsampling de las clases subrepresentadas (-1 y 1)\n",
    "\n",
    "# Separar las clases subrepresentadas\n",
    "manifesto_menos1 = manifesto_balanceado[manifesto_balanceado['libertad_personal_score'] == -1]\n",
    "manifesto_1 = manifesto_balanceado[manifesto_balanceado['libertad_personal_score'] == 1]\n",
    "\n",
    "# Aumentar en un 20% de su tamaño original\n",
    "n_menos1 = len(manifesto_menos1)\n",
    "n_1 = len(manifesto_1)\n",
    "\n",
    "# Upsampling de las clases -1 y 1 con un incremento del 20%\n",
    "manifesto_menos1_upsampled = resample(manifesto_menos1,\n",
    "                                      replace=True,  # Permitir replicación de datos\n",
    "                                      n_samples=int(n_menos1 * 1.2),  # Aumentar en 20%\n",
    "                                      random_state=42)\n",
    "\n",
    "manifesto_1_upsampled = resample(manifesto_1,\n",
    "                                 replace=True,\n",
    "                                 n_samples=int(n_1 * 1.5),  # Aumentar en 20%\n",
    "                                 random_state=42)\n",
    "\n",
    "# Recombinar el dataset con el upsampling aplicado\n",
    "manifesto_balanceado_upsampled = pd.concat([manifesto_balanceado[manifesto_balanceado['libertad_personal_score'] == 0],\n",
    "                                            manifesto_menos1_upsampled,\n",
    "                                            manifesto_1_upsampled])\n",
    "\n",
    "\n",
    "# Verificar el nuevo tamaño del dataset\n",
    "print(\"Tamaño original del dataset:\", len(manifesto_data))\n",
    "print(\"Tamaño del dataset balanceado:\", len(manifesto_balanceado_upsampled))"
   ]
  },
  {
   "cell_type": "code",
   "execution_count": 75,
   "metadata": {},
   "outputs": [
    {
     "name": "stdout",
     "output_type": "stream",
     "text": [
      "\n",
      "Combinaciones después del balanceo:\n",
      "   libertad_personal_score  libertad_economica_score  counts\n",
      "0                       -1                        -1   49207\n",
      "1                       -1                         0   21571\n",
      "2                        0                        -1   31236\n",
      "3                        0                         0   11841\n",
      "4                        0                         1   89230\n",
      "5                        1                        -1   37612\n",
      "6                        1                         0   26564\n",
      "\n",
      "Distribución de libertad_personal_score después del balanceo:\n",
      "libertad_personal_score\n",
      " 0    132307\n",
      "-1     70778\n",
      " 1     64176\n",
      "Name: count, dtype: int64\n",
      "\n",
      "Distribución de libertad_economica_score después del balanceo:\n",
      "libertad_economica_score\n",
      "-1    118055\n",
      " 1     89230\n",
      " 0     59976\n",
      "Name: count, dtype: int64\n"
     ]
    }
   ],
   "source": [
    "# Verificar la nueva distribución de las combinaciones\n",
    "combinaciones_finales = manifesto_balanceado_upsampled.groupby(['libertad_personal_score', 'libertad_economica_score']).size().reset_index(name='counts')\n",
    "print(\"\\nCombinaciones después del balanceo:\")\n",
    "print(combinaciones_finales)\n",
    "\n",
    "# Verificar la distribución de libertad_personal_score\n",
    "print(\"\\nDistribución de libertad_personal_score después del balanceo:\")\n",
    "print(manifesto_balanceado_upsampled['libertad_personal_score'].value_counts())\n",
    "\n",
    "# Verificar la distribución de libertad_economica_score\n",
    "print(\"\\nDistribución de libertad_economica_score después del balanceo:\")\n",
    "print(manifesto_balanceado_upsampled['libertad_economica_score'].value_counts())"
   ]
  },
  {
   "cell_type": "code",
   "execution_count": 77,
   "metadata": {},
   "outputs": [],
   "source": [
    "manifesto_balanceado_upsampled.to_csv(\"manifesto_balanceado.csv\", index=False)"
   ]
  }
 ],
 "metadata": {
  "kernelspec": {
   "display_name": "base",
   "language": "python",
   "name": "python3"
  },
  "language_info": {
   "codemirror_mode": {
    "name": "ipython",
    "version": 3
   },
   "file_extension": ".py",
   "mimetype": "text/x-python",
   "name": "python",
   "nbconvert_exporter": "python",
   "pygments_lexer": "ipython3",
   "version": "3.12.4"
  }
 },
 "nbformat": 4,
 "nbformat_minor": 2
}
