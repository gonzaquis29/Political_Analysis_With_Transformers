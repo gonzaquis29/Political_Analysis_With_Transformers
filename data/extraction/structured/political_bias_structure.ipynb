{
 "cells": [
  {
   "cell_type": "code",
   "execution_count": 1,
   "metadata": {},
   "outputs": [],
   "source": [
    "import requests\n",
    "import pandas as pd\n",
    "import os\n"
   ]
  },
  {
   "cell_type": "code",
   "execution_count": 2,
   "metadata": {},
   "outputs": [],
   "source": [
    "folder_path = '../translation/traduccion_bias/'\n"
   ]
  },
  {
   "cell_type": "code",
   "execution_count": 3,
   "metadata": {},
   "outputs": [],
   "source": [
    "# Crear una lista para almacenar todos los textos de las sentencias\n",
    "all_statements = []\n",
    "\n",
    "# Iterar sobre los archivos CSV en la carpeta\n",
    "for i in range(5):  \n",
    "    file_name = f'translated_batch_{i}.csv'\n",
    "    file_path = os.path.join(folder_path, file_name)\n",
    "    \n",
    "    # Leer el archivo CSV\n",
    "    df = pd.read_csv(file_path)\n",
    "    \n",
    "    # Extraer la columna de texto de las sentencias\n",
    "    statements = df['translated_statement'].tolist()\n",
    "    \n",
    "    # Agregar las sentencias a la lista general\n",
    "    all_statements.extend(statements)"
   ]
  },
  {
   "cell_type": "code",
   "execution_count": 4,
   "metadata": {},
   "outputs": [],
   "source": [
    "political_bias_data = pd.read_csv(\"../../raw/political_bias.csv\")\n",
    "political_bias_data = political_bias_data.sample(frac=1, random_state=42)"
   ]
  },
  {
   "cell_type": "code",
   "execution_count": 5,
   "metadata": {},
   "outputs": [],
   "source": [
    "political_bias_data = political_bias_data.head(640)"
   ]
  },
  {
   "cell_type": "code",
   "execution_count": 6,
   "metadata": {},
   "outputs": [],
   "source": [
    "political_bias_data['text_spa'] = all_statements"
   ]
  },
  {
   "cell_type": "code",
   "execution_count": 7,
   "metadata": {},
   "outputs": [
    {
     "data": {
      "text/html": [
       "<div>\n",
       "<style scoped>\n",
       "    .dataframe tbody tr th:only-of-type {\n",
       "        vertical-align: middle;\n",
       "    }\n",
       "\n",
       "    .dataframe tbody tr th {\n",
       "        vertical-align: top;\n",
       "    }\n",
       "\n",
       "    .dataframe thead th {\n",
       "        text-align: right;\n",
       "    }\n",
       "</style>\n",
       "<table border=\"1\" class=\"dataframe\">\n",
       "  <thead>\n",
       "    <tr style=\"text-align: right;\">\n",
       "      <th></th>\n",
       "      <th>text</th>\n",
       "      <th>label</th>\n",
       "      <th>text_spa</th>\n",
       "    </tr>\n",
       "  </thead>\n",
       "  <tbody>\n",
       "    <tr>\n",
       "      <th>627</th>\n",
       "      <td>Moderate wage policies can raise incomes witho...</td>\n",
       "      <td>3</td>\n",
       "      <td>Las políticas salariales moderadas pueden aume...</td>\n",
       "    </tr>\n",
       "    <tr>\n",
       "      <th>271</th>\n",
       "      <td>Balanced education funding should support both...</td>\n",
       "      <td>1</td>\n",
       "      <td>La financiación equilibrada de la educación de...</td>\n",
       "    </tr>\n",
       "    <tr>\n",
       "      <th>290</th>\n",
       "      <td>Economic development should be pursued while e...</td>\n",
       "      <td>2</td>\n",
       "      <td>Debe procurarse el desarrollo económico garant...</td>\n",
       "    </tr>\n",
       "    <tr>\n",
       "      <th>63</th>\n",
       "      <td>Tax credits for research and development can d...</td>\n",
       "      <td>1</td>\n",
       "      <td>Los créditos fiscales para la investigación y ...</td>\n",
       "    </tr>\n",
       "    <tr>\n",
       "      <th>302</th>\n",
       "      <td>Public investment should balance economic grow...</td>\n",
       "      <td>2</td>\n",
       "      <td>La inversión pública debe equilibrar el crecim...</td>\n",
       "    </tr>\n",
       "    <tr>\n",
       "      <th>...</th>\n",
       "      <td>...</td>\n",
       "      <td>...</td>\n",
       "      <td>...</td>\n",
       "    </tr>\n",
       "    <tr>\n",
       "      <th>191</th>\n",
       "      <td>Effective policy-making requires considering d...</td>\n",
       "      <td>2</td>\n",
       "      <td>Para que la formulación de políticas sea efica...</td>\n",
       "    </tr>\n",
       "    <tr>\n",
       "      <th>385</th>\n",
       "      <td>Increasing funding for mental health services ...</td>\n",
       "      <td>4</td>\n",
       "      <td>El aumento de la financiación de los servicios...</td>\n",
       "    </tr>\n",
       "    <tr>\n",
       "      <th>413</th>\n",
       "      <td>Lowering taxes on businesses will spur investm...</td>\n",
       "      <td>0</td>\n",
       "      <td>La reducción de los impuestos sobre las empres...</td>\n",
       "    </tr>\n",
       "    <tr>\n",
       "      <th>491</th>\n",
       "      <td>Balanced fiscal policies should support both e...</td>\n",
       "      <td>1</td>\n",
       "      <td>Las políticas fiscales equilibradas deben apoy...</td>\n",
       "    </tr>\n",
       "    <tr>\n",
       "      <th>343</th>\n",
       "      <td>Moderate environmental policies can protect re...</td>\n",
       "      <td>3</td>\n",
       "      <td>Las políticas ambientales moderadas pueden pro...</td>\n",
       "    </tr>\n",
       "  </tbody>\n",
       "</table>\n",
       "<p>640 rows × 3 columns</p>\n",
       "</div>"
      ],
      "text/plain": [
       "                                                  text  label  \\\n",
       "627  Moderate wage policies can raise incomes witho...      3   \n",
       "271  Balanced education funding should support both...      1   \n",
       "290  Economic development should be pursued while e...      2   \n",
       "63   Tax credits for research and development can d...      1   \n",
       "302  Public investment should balance economic grow...      2   \n",
       "..                                                 ...    ...   \n",
       "191  Effective policy-making requires considering d...      2   \n",
       "385  Increasing funding for mental health services ...      4   \n",
       "413  Lowering taxes on businesses will spur investm...      0   \n",
       "491  Balanced fiscal policies should support both e...      1   \n",
       "343  Moderate environmental policies can protect re...      3   \n",
       "\n",
       "                                              text_spa  \n",
       "627  Las políticas salariales moderadas pueden aume...  \n",
       "271  La financiación equilibrada de la educación de...  \n",
       "290  Debe procurarse el desarrollo económico garant...  \n",
       "63   Los créditos fiscales para la investigación y ...  \n",
       "302  La inversión pública debe equilibrar el crecim...  \n",
       "..                                                 ...  \n",
       "191  Para que la formulación de políticas sea efica...  \n",
       "385  El aumento de la financiación de los servicios...  \n",
       "413  La reducción de los impuestos sobre las empres...  \n",
       "491  Las políticas fiscales equilibradas deben apoy...  \n",
       "343  Las políticas ambientales moderadas pueden pro...  \n",
       "\n",
       "[640 rows x 3 columns]"
      ]
     },
     "execution_count": 7,
     "metadata": {},
     "output_type": "execute_result"
    }
   ],
   "source": [
    "political_bias_data"
   ]
  },
  {
   "cell_type": "code",
   "execution_count": 8,
   "metadata": {},
   "outputs": [],
   "source": [
    "political_bias_data = political_bias_data.drop(\"text\", axis = 1)\n",
    "political_bias_data['text'] = political_bias_data['text_spa']\n",
    "political_bias_data = political_bias_data.drop(\"text_spa\", axis = 1)\n"
   ]
  },
  {
   "cell_type": "code",
   "execution_count": 9,
   "metadata": {},
   "outputs": [
    {
     "data": {
      "text/html": [
       "<div>\n",
       "<style scoped>\n",
       "    .dataframe tbody tr th:only-of-type {\n",
       "        vertical-align: middle;\n",
       "    }\n",
       "\n",
       "    .dataframe tbody tr th {\n",
       "        vertical-align: top;\n",
       "    }\n",
       "\n",
       "    .dataframe thead th {\n",
       "        text-align: right;\n",
       "    }\n",
       "</style>\n",
       "<table border=\"1\" class=\"dataframe\">\n",
       "  <thead>\n",
       "    <tr style=\"text-align: right;\">\n",
       "      <th></th>\n",
       "      <th>label</th>\n",
       "      <th>text</th>\n",
       "    </tr>\n",
       "  </thead>\n",
       "  <tbody>\n",
       "    <tr>\n",
       "      <th>627</th>\n",
       "      <td>3</td>\n",
       "      <td>Las políticas salariales moderadas pueden aume...</td>\n",
       "    </tr>\n",
       "    <tr>\n",
       "      <th>271</th>\n",
       "      <td>1</td>\n",
       "      <td>La financiación equilibrada de la educación de...</td>\n",
       "    </tr>\n",
       "    <tr>\n",
       "      <th>290</th>\n",
       "      <td>2</td>\n",
       "      <td>Debe procurarse el desarrollo económico garant...</td>\n",
       "    </tr>\n",
       "    <tr>\n",
       "      <th>63</th>\n",
       "      <td>1</td>\n",
       "      <td>Los créditos fiscales para la investigación y ...</td>\n",
       "    </tr>\n",
       "    <tr>\n",
       "      <th>302</th>\n",
       "      <td>2</td>\n",
       "      <td>La inversión pública debe equilibrar el crecim...</td>\n",
       "    </tr>\n",
       "    <tr>\n",
       "      <th>...</th>\n",
       "      <td>...</td>\n",
       "      <td>...</td>\n",
       "    </tr>\n",
       "    <tr>\n",
       "      <th>191</th>\n",
       "      <td>2</td>\n",
       "      <td>Para que la formulación de políticas sea efica...</td>\n",
       "    </tr>\n",
       "    <tr>\n",
       "      <th>385</th>\n",
       "      <td>4</td>\n",
       "      <td>El aumento de la financiación de los servicios...</td>\n",
       "    </tr>\n",
       "    <tr>\n",
       "      <th>413</th>\n",
       "      <td>0</td>\n",
       "      <td>La reducción de los impuestos sobre las empres...</td>\n",
       "    </tr>\n",
       "    <tr>\n",
       "      <th>491</th>\n",
       "      <td>1</td>\n",
       "      <td>Las políticas fiscales equilibradas deben apoy...</td>\n",
       "    </tr>\n",
       "    <tr>\n",
       "      <th>343</th>\n",
       "      <td>3</td>\n",
       "      <td>Las políticas ambientales moderadas pueden pro...</td>\n",
       "    </tr>\n",
       "  </tbody>\n",
       "</table>\n",
       "<p>640 rows × 2 columns</p>\n",
       "</div>"
      ],
      "text/plain": [
       "     label                                               text\n",
       "627      3  Las políticas salariales moderadas pueden aume...\n",
       "271      1  La financiación equilibrada de la educación de...\n",
       "290      2  Debe procurarse el desarrollo económico garant...\n",
       "63       1  Los créditos fiscales para la investigación y ...\n",
       "302      2  La inversión pública debe equilibrar el crecim...\n",
       "..     ...                                                ...\n",
       "191      2  Para que la formulación de políticas sea efica...\n",
       "385      4  El aumento de la financiación de los servicios...\n",
       "413      0  La reducción de los impuestos sobre las empres...\n",
       "491      1  Las políticas fiscales equilibradas deben apoy...\n",
       "343      3  Las políticas ambientales moderadas pueden pro...\n",
       "\n",
       "[640 rows x 2 columns]"
      ]
     },
     "execution_count": 9,
     "metadata": {},
     "output_type": "execute_result"
    }
   ],
   "source": [
    "political_bias_data"
   ]
  },
  {
   "cell_type": "code",
   "execution_count": 10,
   "metadata": {},
   "outputs": [],
   "source": [
    "#Dataset is more lean towards economic measurements.\n",
    "def map_label_to_scores(label):\n",
    "    libertad_personal_score = 0  # Siempre 0 para libertad personal\n",
    "    if label in [0, 1]:\n",
    "        libertad_economica_score = 1  # Más liberal en lo económico\n",
    "    elif label == 2:\n",
    "        libertad_economica_score = 0   # Neutral\n",
    "    elif label in [3, 4]:\n",
    "        libertad_economica_score = -1   # Más progresivo en lo económico\n",
    "    return pd.Series([libertad_personal_score, libertad_economica_score])"
   ]
  },
  {
   "cell_type": "code",
   "execution_count": 11,
   "metadata": {},
   "outputs": [],
   "source": [
    "political_bias_data[['libertad_personal_score', 'libertad_economica_score']] = political_bias_data['label'].apply(map_label_to_scores)\n"
   ]
  },
  {
   "cell_type": "code",
   "execution_count": 12,
   "metadata": {},
   "outputs": [],
   "source": [
    "political_bias_data = political_bias_data.drop(\"label\", axis = 1)"
   ]
  },
  {
   "cell_type": "code",
   "execution_count": 17,
   "metadata": {},
   "outputs": [],
   "source": [
    "political_bias_data.to_csv(\"political_bias_estructurado.csv\",index=False)"
   ]
  }
 ],
 "metadata": {
  "kernelspec": {
   "display_name": "base",
   "language": "python",
   "name": "python3"
  },
  "language_info": {
   "codemirror_mode": {
    "name": "ipython",
    "version": 3
   },
   "file_extension": ".py",
   "mimetype": "text/x-python",
   "name": "python",
   "nbconvert_exporter": "python",
   "pygments_lexer": "ipython3",
   "version": "3.12.4"
  }
 },
 "nbformat": 4,
 "nbformat_minor": 2
}
