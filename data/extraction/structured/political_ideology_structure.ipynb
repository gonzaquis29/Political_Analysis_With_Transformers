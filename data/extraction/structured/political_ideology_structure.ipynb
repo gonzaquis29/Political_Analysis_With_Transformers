{
 "cells": [
  {
   "cell_type": "code",
   "execution_count": 1,
   "metadata": {},
   "outputs": [],
   "source": [
    "import requests\n",
    "import pandas as pd\n",
    "import os\n"
   ]
  },
  {
   "cell_type": "code",
   "execution_count": 2,
   "metadata": {},
   "outputs": [],
   "source": [
    "folder_path = '../translation/traduccion_ideo/'\n"
   ]
  },
  {
   "cell_type": "code",
   "execution_count": 3,
   "metadata": {},
   "outputs": [],
   "source": [
    "# Crear una lista para almacenar todos los textos de las sentencias\n",
    "all_statements = []\n",
    "\n",
    "# Iterar sobre los archivos CSV en la carpeta\n",
    "for i in range(25):  # Hay 25 archivos del batch 0 al 24\n",
    "    file_name = f'translated_batch_{i}.csv'\n",
    "    file_path = os.path.join(folder_path, file_name)\n",
    "    \n",
    "    # Leer el archivo CSV\n",
    "    df = pd.read_csv(file_path)\n",
    "    \n",
    "    # Extraer la columna de texto de las sentencias\n",
    "    statements = df['translated_statement'].tolist()\n",
    "    \n",
    "    # Agregar las sentencias a la lista general\n",
    "    all_statements.extend(statements)"
   ]
  },
  {
   "cell_type": "code",
   "execution_count": 4,
   "metadata": {},
   "outputs": [
    {
     "data": {
      "text/plain": [
       "3200"
      ]
     },
     "execution_count": 4,
     "metadata": {},
     "output_type": "execute_result"
    }
   ],
   "source": [
    "len(all_statements)"
   ]
  },
  {
   "cell_type": "code",
   "execution_count": 5,
   "metadata": {},
   "outputs": [
    {
     "data": {
      "text/html": [
       "<div>\n",
       "<style scoped>\n",
       "    .dataframe tbody tr th:only-of-type {\n",
       "        vertical-align: middle;\n",
       "    }\n",
       "\n",
       "    .dataframe tbody tr th {\n",
       "        vertical-align: top;\n",
       "    }\n",
       "\n",
       "    .dataframe thead th {\n",
       "        text-align: right;\n",
       "    }\n",
       "</style>\n",
       "<table border=\"1\" class=\"dataframe\">\n",
       "  <thead>\n",
       "    <tr style=\"text-align: right;\">\n",
       "      <th></th>\n",
       "      <th>Unnamed: 0</th>\n",
       "      <th>statement</th>\n",
       "      <th>libertad_economica_score</th>\n",
       "      <th>libertad_personal_score</th>\n",
       "    </tr>\n",
       "  </thead>\n",
       "  <tbody>\n",
       "    <tr>\n",
       "      <th>0</th>\n",
       "      <td>0</td>\n",
       "      <td>Climate change, and the escalating environment...</td>\n",
       "      <td>0</td>\n",
       "      <td>0</td>\n",
       "    </tr>\n",
       "    <tr>\n",
       "      <th>1</th>\n",
       "      <td>1</td>\n",
       "      <td>I believe in the foundational importance of th...</td>\n",
       "      <td>0</td>\n",
       "      <td>-1</td>\n",
       "    </tr>\n",
       "    <tr>\n",
       "      <th>2</th>\n",
       "      <td>2</td>\n",
       "      <td>I firmly believe that the principle of separat...</td>\n",
       "      <td>0</td>\n",
       "      <td>1</td>\n",
       "    </tr>\n",
       "    <tr>\n",
       "      <th>3</th>\n",
       "      <td>3</td>\n",
       "      <td>I firmly believe in the separation of church a...</td>\n",
       "      <td>0</td>\n",
       "      <td>1</td>\n",
       "    </tr>\n",
       "    <tr>\n",
       "      <th>4</th>\n",
       "      <td>4</td>\n",
       "      <td>I firmly believe in the power of free markets ...</td>\n",
       "      <td>-1</td>\n",
       "      <td>0</td>\n",
       "    </tr>\n",
       "  </tbody>\n",
       "</table>\n",
       "</div>"
      ],
      "text/plain": [
       "   Unnamed: 0                                          statement  \\\n",
       "0           0  Climate change, and the escalating environment...   \n",
       "1           1  I believe in the foundational importance of th...   \n",
       "2           2  I firmly believe that the principle of separat...   \n",
       "3           3  I firmly believe in the separation of church a...   \n",
       "4           4  I firmly believe in the power of free markets ...   \n",
       "\n",
       "   libertad_economica_score  libertad_personal_score  \n",
       "0                         0                        0  \n",
       "1                         0                       -1  \n",
       "2                         0                        1  \n",
       "3                         0                        1  \n",
       "4                        -1                        0  "
      ]
     },
     "execution_count": 5,
     "metadata": {},
     "output_type": "execute_result"
    }
   ],
   "source": [
    "df_politics_idio = pd.read_csv(\"../../raw/poli_idio.csv\")\n",
    "df_politics_idio.head()"
   ]
  },
  {
   "cell_type": "code",
   "execution_count": 7,
   "metadata": {},
   "outputs": [],
   "source": [
    "df_politics_idio['text'] = all_statements"
   ]
  },
  {
   "cell_type": "code",
   "execution_count": 8,
   "metadata": {},
   "outputs": [
    {
     "data": {
      "text/html": [
       "<div>\n",
       "<style scoped>\n",
       "    .dataframe tbody tr th:only-of-type {\n",
       "        vertical-align: middle;\n",
       "    }\n",
       "\n",
       "    .dataframe tbody tr th {\n",
       "        vertical-align: top;\n",
       "    }\n",
       "\n",
       "    .dataframe thead th {\n",
       "        text-align: right;\n",
       "    }\n",
       "</style>\n",
       "<table border=\"1\" class=\"dataframe\">\n",
       "  <thead>\n",
       "    <tr style=\"text-align: right;\">\n",
       "      <th></th>\n",
       "      <th>Unnamed: 0</th>\n",
       "      <th>statement</th>\n",
       "      <th>libertad_economica_score</th>\n",
       "      <th>libertad_personal_score</th>\n",
       "      <th>text</th>\n",
       "    </tr>\n",
       "  </thead>\n",
       "  <tbody>\n",
       "    <tr>\n",
       "      <th>0</th>\n",
       "      <td>0</td>\n",
       "      <td>Climate change, and the escalating environment...</td>\n",
       "      <td>0</td>\n",
       "      <td>0</td>\n",
       "      <td>El cambio climático, y la creciente degradació...</td>\n",
       "    </tr>\n",
       "    <tr>\n",
       "      <th>1</th>\n",
       "      <td>1</td>\n",
       "      <td>I believe in the foundational importance of th...</td>\n",
       "      <td>0</td>\n",
       "      <td>-1</td>\n",
       "      <td>Creo en la importancia fundamental de la estru...</td>\n",
       "    </tr>\n",
       "    <tr>\n",
       "      <th>2</th>\n",
       "      <td>2</td>\n",
       "      <td>I firmly believe that the principle of separat...</td>\n",
       "      <td>0</td>\n",
       "      <td>1</td>\n",
       "      <td>Creo firmemente que el principio de separación...</td>\n",
       "    </tr>\n",
       "    <tr>\n",
       "      <th>3</th>\n",
       "      <td>3</td>\n",
       "      <td>I firmly believe in the separation of church a...</td>\n",
       "      <td>0</td>\n",
       "      <td>1</td>\n",
       "      <td>Creo firmemente en la separación de la iglesia...</td>\n",
       "    </tr>\n",
       "    <tr>\n",
       "      <th>4</th>\n",
       "      <td>4</td>\n",
       "      <td>I firmly believe in the power of free markets ...</td>\n",
       "      <td>-1</td>\n",
       "      <td>0</td>\n",
       "      <td>Creo firmemente en el poder de los mercados li...</td>\n",
       "    </tr>\n",
       "  </tbody>\n",
       "</table>\n",
       "</div>"
      ],
      "text/plain": [
       "   Unnamed: 0                                          statement  \\\n",
       "0           0  Climate change, and the escalating environment...   \n",
       "1           1  I believe in the foundational importance of th...   \n",
       "2           2  I firmly believe that the principle of separat...   \n",
       "3           3  I firmly believe in the separation of church a...   \n",
       "4           4  I firmly believe in the power of free markets ...   \n",
       "\n",
       "   libertad_economica_score  libertad_personal_score  \\\n",
       "0                         0                        0   \n",
       "1                         0                       -1   \n",
       "2                         0                        1   \n",
       "3                         0                        1   \n",
       "4                        -1                        0   \n",
       "\n",
       "                                                text  \n",
       "0  El cambio climático, y la creciente degradació...  \n",
       "1  Creo en la importancia fundamental de la estru...  \n",
       "2  Creo firmemente que el principio de separación...  \n",
       "3  Creo firmemente en la separación de la iglesia...  \n",
       "4  Creo firmemente en el poder de los mercados li...  "
      ]
     },
     "execution_count": 8,
     "metadata": {},
     "output_type": "execute_result"
    }
   ],
   "source": [
    "df_politics_idio.head()"
   ]
  },
  {
   "cell_type": "code",
   "execution_count": 9,
   "metadata": {},
   "outputs": [],
   "source": [
    "filtered_df = df_politics_idio[['text', 'libertad_economica_score', 'libertad_personal_score']]\n"
   ]
  },
  {
   "cell_type": "code",
   "execution_count": 10,
   "metadata": {},
   "outputs": [
    {
     "data": {
      "text/html": [
       "<div>\n",
       "<style scoped>\n",
       "    .dataframe tbody tr th:only-of-type {\n",
       "        vertical-align: middle;\n",
       "    }\n",
       "\n",
       "    .dataframe tbody tr th {\n",
       "        vertical-align: top;\n",
       "    }\n",
       "\n",
       "    .dataframe thead th {\n",
       "        text-align: right;\n",
       "    }\n",
       "</style>\n",
       "<table border=\"1\" class=\"dataframe\">\n",
       "  <thead>\n",
       "    <tr style=\"text-align: right;\">\n",
       "      <th></th>\n",
       "      <th>text</th>\n",
       "      <th>libertad_economica_score</th>\n",
       "      <th>libertad_personal_score</th>\n",
       "    </tr>\n",
       "  </thead>\n",
       "  <tbody>\n",
       "    <tr>\n",
       "      <th>0</th>\n",
       "      <td>El cambio climático, y la creciente degradació...</td>\n",
       "      <td>0</td>\n",
       "      <td>0</td>\n",
       "    </tr>\n",
       "    <tr>\n",
       "      <th>1</th>\n",
       "      <td>Creo en la importancia fundamental de la estru...</td>\n",
       "      <td>0</td>\n",
       "      <td>-1</td>\n",
       "    </tr>\n",
       "    <tr>\n",
       "      <th>2</th>\n",
       "      <td>Creo firmemente que el principio de separación...</td>\n",
       "      <td>0</td>\n",
       "      <td>1</td>\n",
       "    </tr>\n",
       "    <tr>\n",
       "      <th>3</th>\n",
       "      <td>Creo firmemente en la separación de la iglesia...</td>\n",
       "      <td>0</td>\n",
       "      <td>1</td>\n",
       "    </tr>\n",
       "    <tr>\n",
       "      <th>4</th>\n",
       "      <td>Creo firmemente en el poder de los mercados li...</td>\n",
       "      <td>-1</td>\n",
       "      <td>0</td>\n",
       "    </tr>\n",
       "  </tbody>\n",
       "</table>\n",
       "</div>"
      ],
      "text/plain": [
       "                                                text  \\\n",
       "0  El cambio climático, y la creciente degradació...   \n",
       "1  Creo en la importancia fundamental de la estru...   \n",
       "2  Creo firmemente que el principio de separación...   \n",
       "3  Creo firmemente en la separación de la iglesia...   \n",
       "4  Creo firmemente en el poder de los mercados li...   \n",
       "\n",
       "   libertad_economica_score  libertad_personal_score  \n",
       "0                         0                        0  \n",
       "1                         0                       -1  \n",
       "2                         0                        1  \n",
       "3                         0                        1  \n",
       "4                        -1                        0  "
      ]
     },
     "execution_count": 10,
     "metadata": {},
     "output_type": "execute_result"
    }
   ],
   "source": [
    "filtered_df.head()"
   ]
  },
  {
   "cell_type": "code",
   "execution_count": 11,
   "metadata": {},
   "outputs": [],
   "source": [
    "filtered_df.to_csv(\"poli_idio_estructurado.csv\",index=False)"
   ]
  }
 ],
 "metadata": {
  "kernelspec": {
   "display_name": "base",
   "language": "python",
   "name": "python3"
  },
  "language_info": {
   "codemirror_mode": {
    "name": "ipython",
    "version": 3
   },
   "file_extension": ".py",
   "mimetype": "text/x-python",
   "name": "python",
   "nbconvert_exporter": "python",
   "pygments_lexer": "ipython3",
   "version": "3.12.4"
  }
 },
 "nbformat": 4,
 "nbformat_minor": 2
}
