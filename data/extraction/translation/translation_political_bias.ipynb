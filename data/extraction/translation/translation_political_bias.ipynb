{
  "cells": [
    {
      "cell_type": "code",
      "execution_count": 1,
      "metadata": {
        "id": "L3GqqB-SZlHU"
      },
      "outputs": [],
      "source": [
        "import numpy as np\n",
        "import pandas as pd"
      ]
    },
    {
      "cell_type": "code",
      "execution_count": 2,
      "metadata": {
        "colab": {
          "base_uri": "https://localhost:8080/",
          "height": 206
        },
        "id": "3AcEUN0FZlHa",
        "outputId": "c836fb6d-7b02-4c7c-c88d-caede0c8406b"
      },
      "outputs": [
        {
          "data": {
            "text/html": [
              "<div>\n",
              "<style scoped>\n",
              "    .dataframe tbody tr th:only-of-type {\n",
              "        vertical-align: middle;\n",
              "    }\n",
              "\n",
              "    .dataframe tbody tr th {\n",
              "        vertical-align: top;\n",
              "    }\n",
              "\n",
              "    .dataframe thead th {\n",
              "        text-align: right;\n",
              "    }\n",
              "</style>\n",
              "<table border=\"1\" class=\"dataframe\">\n",
              "  <thead>\n",
              "    <tr style=\"text-align: right;\">\n",
              "      <th></th>\n",
              "      <th>text</th>\n",
              "      <th>label</th>\n",
              "    </tr>\n",
              "  </thead>\n",
              "  <tbody>\n",
              "    <tr>\n",
              "      <th>0</th>\n",
              "      <td>The government should reduce taxes significant...</td>\n",
              "      <td>0</td>\n",
              "    </tr>\n",
              "    <tr>\n",
              "      <th>1</th>\n",
              "      <td>Cutting welfare programs is necessary to encou...</td>\n",
              "      <td>0</td>\n",
              "    </tr>\n",
              "    <tr>\n",
              "      <th>2</th>\n",
              "      <td>A strong military is essential for national se...</td>\n",
              "      <td>0</td>\n",
              "    </tr>\n",
              "    <tr>\n",
              "      <th>3</th>\n",
              "      <td>Deregulation is crucial to promote free market...</td>\n",
              "      <td>0</td>\n",
              "    </tr>\n",
              "    <tr>\n",
              "      <th>4</th>\n",
              "      <td>Traditional family values should be upheld to ...</td>\n",
              "      <td>0</td>\n",
              "    </tr>\n",
              "  </tbody>\n",
              "</table>\n",
              "</div>"
            ],
            "text/plain": [
              "                                                text  label\n",
              "0  The government should reduce taxes significant...      0\n",
              "1  Cutting welfare programs is necessary to encou...      0\n",
              "2  A strong military is essential for national se...      0\n",
              "3  Deregulation is crucial to promote free market...      0\n",
              "4  Traditional family values should be upheld to ...      0"
            ]
          },
          "execution_count": 2,
          "metadata": {},
          "output_type": "execute_result"
        }
      ],
      "source": [
        "political_bias_data = pd.read_csv(\"../../raw/political_bias.csv\")\n",
        "political_bias_data.head()"
      ]
    },
    {
      "cell_type": "code",
      "execution_count": 3,
      "metadata": {
        "id": "xnTYCuTKeBmX"
      },
      "outputs": [],
      "source": [
        "political_bias_data = political_bias_data.sample(frac=1, random_state=42)"
      ]
    },
    {
      "cell_type": "code",
      "execution_count": 4,
      "metadata": {
        "colab": {
          "base_uri": "https://localhost:8080/",
          "height": 293
        },
        "id": "A3teR4GPeE-k",
        "outputId": "a0f9c444-0246-4574-d4ae-e3f3a7688147"
      },
      "outputs": [
        {
          "data": {
            "text/html": [
              "<div>\n",
              "<style scoped>\n",
              "    .dataframe tbody tr th:only-of-type {\n",
              "        vertical-align: middle;\n",
              "    }\n",
              "\n",
              "    .dataframe tbody tr th {\n",
              "        vertical-align: top;\n",
              "    }\n",
              "\n",
              "    .dataframe thead th {\n",
              "        text-align: right;\n",
              "    }\n",
              "</style>\n",
              "<table border=\"1\" class=\"dataframe\">\n",
              "  <thead>\n",
              "    <tr style=\"text-align: right;\">\n",
              "      <th></th>\n",
              "      <th>text</th>\n",
              "      <th>label</th>\n",
              "    </tr>\n",
              "  </thead>\n",
              "  <tbody>\n",
              "    <tr>\n",
              "      <th>627</th>\n",
              "      <td>Moderate wage policies can raise incomes witho...</td>\n",
              "      <td>3</td>\n",
              "    </tr>\n",
              "    <tr>\n",
              "      <th>271</th>\n",
              "      <td>Balanced education funding should support both...</td>\n",
              "      <td>1</td>\n",
              "    </tr>\n",
              "    <tr>\n",
              "      <th>290</th>\n",
              "      <td>Economic development should be pursued while e...</td>\n",
              "      <td>2</td>\n",
              "    </tr>\n",
              "    <tr>\n",
              "      <th>63</th>\n",
              "      <td>Tax credits for research and development can d...</td>\n",
              "      <td>1</td>\n",
              "    </tr>\n",
              "    <tr>\n",
              "      <th>302</th>\n",
              "      <td>Public investment should balance economic grow...</td>\n",
              "      <td>2</td>\n",
              "    </tr>\n",
              "  </tbody>\n",
              "</table>\n",
              "</div>"
            ],
            "text/plain": [
              "                                                  text  label\n",
              "627  Moderate wage policies can raise incomes witho...      3\n",
              "271  Balanced education funding should support both...      1\n",
              "290  Economic development should be pursued while e...      2\n",
              "63   Tax credits for research and development can d...      1\n",
              "302  Public investment should balance economic grow...      2"
            ]
          },
          "execution_count": 4,
          "metadata": {},
          "output_type": "execute_result"
        }
      ],
      "source": [
        "political_bias_data.head()"
      ]
    },
    {
      "cell_type": "code",
      "execution_count": 5,
      "metadata": {
        "id": "dgO6jTBchSOy"
      },
      "outputs": [],
      "source": [
        "from transformers import MarianMTModel, MarianTokenizer\n"
      ]
    },
    {
      "cell_type": "code",
      "execution_count": 6,
      "metadata": {},
      "outputs": [
        {
          "name": "stderr",
          "output_type": "stream",
          "text": [
            "c:\\Users\\Gonzalo\\anaconda3\\Lib\\site-packages\\transformers\\tokenization_utils_base.py:1601: FutureWarning: `clean_up_tokenization_spaces` was not set. It will be set to `True` by default. This behavior will be depracted in transformers v4.45, and will be then set to `False` by default. For more details check this issue: https://github.com/huggingface/transformers/issues/31884\n",
            "  warnings.warn(\n"
          ]
        }
      ],
      "source": [
        "model_name = 'Helsinki-NLP/opus-mt-en-es'\n",
        "tokenizer = MarianTokenizer.from_pretrained(model_name)\n",
        "model = MarianMTModel.from_pretrained(model_name)#.to('cuda')"
      ]
    },
    {
      "cell_type": "code",
      "execution_count": 7,
      "metadata": {},
      "outputs": [],
      "source": [
        "# Oración de prueba\n",
        "sentence = \"This is a rusty spotted cat.\"\n",
        "\n",
        "# Traducir la oración\n",
        "inputs = tokenizer([sentence], return_tensors=\"pt\", padding=True)\n",
        "translated = model.generate(**inputs)\n",
        "translated_sentence = tokenizer.decode(translated[0], skip_special_tokens=True)"
      ]
    },
    {
      "cell_type": "code",
      "execution_count": 8,
      "metadata": {},
      "outputs": [
        {
          "name": "stdout",
          "output_type": "stream",
          "text": [
            "Este es un gato manchado oxidado.\n"
          ]
        }
      ],
      "source": [
        "print(translated_sentence)"
      ]
    },
    {
      "cell_type": "code",
      "execution_count": 9,
      "metadata": {},
      "outputs": [],
      "source": [
        "def translate_batch(batch):\n",
        "    inputs = tokenizer(batch, return_tensors=\"pt\", padding=True, truncation=True)\n",
        "    translated = model.generate(**inputs)\n",
        "    return [tokenizer.decode(t, skip_special_tokens=True) for t in translated]"
      ]
    },
    {
      "cell_type": "code",
      "execution_count": 10,
      "metadata": {},
      "outputs": [],
      "source": [
        "def translate_batch(batch):\n",
        "    inputs = tokenizer(batch, return_tensors=\"pt\", padding=True, truncation=True)\n",
        "    translated = model.generate(**inputs)\n",
        "    return [tokenizer.decode(t, skip_special_tokens=True) for t in translated]"
      ]
    },
    {
      "cell_type": "code",
      "execution_count": 11,
      "metadata": {},
      "outputs": [],
      "source": [
        "def save_translation(batch_number, translated_batch):\n",
        "    output_file = \"traduccion_bias/translated_batch_\"+ str(batch_number)+\".csv\"\n",
        "    df_translated = pd.DataFrame(translated_batch, columns=['translated_statement'])\n",
        "    df_translated.to_csv(output_file, index=False)\n",
        "    print(f\"Batch {batch_number} guardado en {output_file}\")"
      ]
    },
    {
      "cell_type": "code",
      "execution_count": 12,
      "metadata": {},
      "outputs": [],
      "source": [
        "# Traducir la columna 'statement' por lotes para no sobrecargar la memoria\n",
        "# Preparar batches\n",
        "batch_size = 128\n",
        "batches = [(i//batch_size, political_bias_data['text'][i:i+batch_size].tolist()) for i in range(0, len(political_bias_data), batch_size)]"
      ]
    },
    {
      "cell_type": "code",
      "execution_count": 14,
      "metadata": {},
      "outputs": [
        {
          "name": "stdout",
          "output_type": "stream",
          "text": [
            "Procesando el batch:  1\n",
            "Batch 1 guardado en traduccion_bias/translated_batch_1.csv\n",
            "Procesando el batch:  2\n",
            "Batch 2 guardado en traduccion_bias/translated_batch_2.csv\n",
            "Procesando el batch:  3\n",
            "Batch 3 guardado en traduccion_bias/translated_batch_3.csv\n",
            "Procesando el batch:  4\n",
            "Batch 4 guardado en traduccion_bias/translated_batch_4.csv\n",
            "Procesando el batch:  5\n",
            "Batch 5 guardado en traduccion_bias/translated_batch_5.csv\n"
          ]
        }
      ],
      "source": [
        "def process_batch(batch_data):\n",
        "    batch_number, batch = batch_data\n",
        "    translated_batch = translate_batch(batch)\n",
        "    save_translation(batch_number, translated_batch)\n",
        "\n",
        "\n",
        "for batch_data in batches:\n",
        "    batch_number, batch = batch_data\n",
        "    if batch_number <= 0:\n",
        "        continue\n",
        "    print(\"Procesando el batch: \", batch_number)\n",
        "    translated_batch = translate_batch(batch)\n",
        "    save_translation(batch_number, translated_batch)\n",
        "    "
      ]
    }
  ],
  "metadata": {
    "colab": {
      "provenance": []
    },
    "kernelspec": {
      "display_name": "base",
      "language": "python",
      "name": "python3"
    },
    "language_info": {
      "codemirror_mode": {
        "name": "ipython",
        "version": 3
      },
      "file_extension": ".py",
      "mimetype": "text/x-python",
      "name": "python",
      "nbconvert_exporter": "python",
      "pygments_lexer": "ipython3",
      "version": "3.12.4"
    }
  },
  "nbformat": 4,
  "nbformat_minor": 0
}
