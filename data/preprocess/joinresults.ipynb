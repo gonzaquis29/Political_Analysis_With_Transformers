{
 "cells": [
  {
   "cell_type": "code",
   "execution_count": 8,
   "metadata": {},
   "outputs": [],
   "source": [
    "import pandas as pd\n",
    "import os\n",
    "import re\n"
   ]
  },
  {
   "cell_type": "code",
   "execution_count": 9,
   "metadata": {},
   "outputs": [],
   "source": [
    "folder_path = 'results'  # Cambia esto por la ruta a tu carpeta\n",
    "\n",
    "# Obtener todos los archivos .csv en la carpeta\n",
    "csv_files = [f for f in os.listdir(folder_path) if f.endswith('.csv')]\n",
    "\n",
    "# Función para extraer el número de los archivos\n",
    "def extract_number(filename):\n",
    "    match = re.search(r'(\\d+)', filename)  # Busca cualquier número en el nombre del archivo\n",
    "    return int(match.group(0)) if match else float('inf')  # Si no encuentra un número, devuelve infinito\n",
    "\n",
    "# Ordenar los archivos por el número extraído del nombre\n",
    "csv_files.sort(key=extract_number)\n",
    "\n",
    "\n",
    "# Inicializar una lista vacía para almacenar los dataframes\n",
    "df_list = []\n",
    "\n",
    "\n"
   ]
  },
  {
   "cell_type": "code",
   "execution_count": 11,
   "metadata": {},
   "outputs": [],
   "source": [
    "# Cargar cada archivo CSV y agregarlo a la lista\n",
    "for file in csv_files:\n",
    "    file_path = os.path.join(folder_path, file)\n",
    "    df = pd.read_csv(file_path)\n",
    "    df_list.append(df)"
   ]
  },
  {
   "cell_type": "code",
   "execution_count": 12,
   "metadata": {},
   "outputs": [],
   "source": [
    "combined_df = pd.concat(df_list, ignore_index=True)\n"
   ]
  },
  {
   "cell_type": "code",
   "execution_count": 13,
   "metadata": {},
   "outputs": [],
   "source": [
    "combined_df.to_csv('manifesto_preprocessed.csv', index=False)\n"
   ]
  }
 ],
 "metadata": {
  "kernelspec": {
   "display_name": "base",
   "language": "python",
   "name": "python3"
  },
  "language_info": {
   "codemirror_mode": {
    "name": "ipython",
    "version": 3
   },
   "file_extension": ".py",
   "mimetype": "text/x-python",
   "name": "python",
   "nbconvert_exporter": "python",
   "pygments_lexer": "ipython3",
   "version": "3.12.4"
  }
 },
 "nbformat": 4,
 "nbformat_minor": 2
}
